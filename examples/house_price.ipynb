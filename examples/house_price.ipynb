{
 "cells": [
  {
   "cell_type": "markdown",
   "metadata": {},
   "source": [
    "# regression example - house price dataset"
   ]
  },
  {
   "cell_type": "code",
   "execution_count": 1,
   "metadata": {},
   "outputs": [],
   "source": [
    "import warnings\n",
    "warnings.filterwarnings('ignore')"
   ]
  },
  {
   "cell_type": "code",
   "execution_count": 2,
   "metadata": {},
   "outputs": [],
   "source": [
    "%load_ext autoreload\n",
    "%autoreload 2"
   ]
  },
  {
   "cell_type": "code",
   "execution_count": 3,
   "metadata": {},
   "outputs": [
    {
     "name": "stderr",
     "output_type": "stream",
     "text": [
      "WARNING:root:'PYARROW_IGNORE_TIMEZONE' environment variable was not set. It is required to set this environment variable to '1' in both driver and executor sides if you use pyarrow>=2.0.0. Koalas will set it for you but it does not work if there is a Spark context already launched.\n"
     ]
    }
   ],
   "source": [
    "import copy\n",
    "import dill\n",
    "import numpy as np\n",
    "import pandas as pd\n",
    "import databricks.koalas as ks\n",
    "from pandas.testing import assert_frame_equal\n",
    "from lightgbm import LGBMRegressor\n",
    "from xgboost import XGBRegressor\n",
    "from sklearn.model_selection import KFold\n",
    "from hyperopt import hp\n",
    "from hyperopt import tpe\n",
    "from sklearn.metrics import r2_score"
   ]
  },
  {
   "cell_type": "code",
   "execution_count": 4,
   "metadata": {},
   "outputs": [
    {
     "name": "stderr",
     "output_type": "stream",
     "text": [
      "21/09/30 09:47:18 WARN NativeCodeLoader: Unable to load native-hadoop library for your platform... using builtin-java classes where applicable\n",
      "Using Spark's default log4j profile: org/apache/spark/log4j-defaults.properties\n",
      "Setting default log level to \"WARN\".\n",
      "To adjust logging level use sc.setLogLevel(newLevel). For SparkR, use setLogLevel(newLevel).\n",
      "21/09/30 09:47:19 WARN Utils: Service 'SparkUI' could not bind on port 4040. Attempting port 4041.\n"
     ]
    }
   ],
   "source": [
    "from pyspark import SparkConf, SparkContext\n",
    "conf = SparkConf()\n",
    "conf.set('spark.executor.memory', '2g')\n",
    "SparkContext(conf=conf)\n",
    "ks.set_option('compute.default_index_type', 'distributed-sequence')"
   ]
  },
  {
   "cell_type": "code",
   "execution_count": 5,
   "metadata": {},
   "outputs": [],
   "source": [
    "from gators.util import util\n",
    "# sampling\n",
    "from gators.sampling import UnsupervisedSampling\n",
    "# frame converter\n",
    "from gators.converter import KoalasToPandas\n",
    "# data cleaninng\n",
    "from gators.data_cleaning import (\n",
    "    DropHighNaNRatio,\n",
    "    DropLowCardinality,\n",
    "    DropHighCardinality,\n",
    "    DropDatatypeColumns,\n",
    "    DropColumns,\n",
    "    KeepColumns,\n",
    ")\n",
    "# imputers\n",
    "from gators.imputers import IntImputer, ObjectImputer\n",
    "# encoders\n",
    "from gators.encoders import (\n",
    "    WOEEncoder, \n",
    "    TargetEncoder,\n",
    "    RegressionEncoder, \n",
    ")\n",
    "# binning\n",
    "from gators.binning import BinRareEvents\n",
    "# feature generation\n",
    "from gators.feature_generation import (\n",
    "    ClusterStatistics,\n",
    "    PolynomialFeatures,\n",
    ")\n",
    "# feature selection\n",
    "from gators.feature_selection import (\n",
    "    InformationValue,\n",
    "    SelectFromModel,\n",
    ")\n",
    "# model building\n",
    "from gators.model_building (\n",
    "    TrainTestSplit,\n",
    "    HyperOpt,\n",
    "    XGBBoosterBuilder,\n",
    "    XGBTreeliteDumper,\n",
    "    LGBMTreeliteDumper,\n",
    ")\n",
    "# pipeline\n",
    "from gators.pipeline import Pipeline"
   ]
  },
  {
   "cell_type": "markdown",
   "metadata": {},
   "source": [
    "## offline pipeline - feature selection"
   ]
  },
  {
   "cell_type": "code",
   "execution_count": 6,
   "metadata": {},
   "outputs": [],
   "source": [
    "model = LGBMRegressor(\n",
    "    random_state=0, n_estimators=100, max_depth=3)\n",
    "k=25\n",
    "polynomial_columns = ['GrLivArea', 'OverallQual','BsmtFinSF1',\n",
    "                      'LotArea','TotalBsmtSF']\n",
    "offline_steps = [\n",
    "    BinRareEvents(min_ratio=0.2),\n",
    "    ObjectImputer(strategy='constant', value='MISSING'),\n",
    "    OrdinalEncoder(),\n",
    "    IntImputer(strategy='constant', value=0),\n",
    "    PolynomialFeatures(\n",
    "        degree=2, \n",
    "        columns=polynomial_columns,\n",
    "        interaction_only=True),\n",
    "    SelectFromModel(model=model, k=k),\n",
    "]"
   ]
  },
  {
   "cell_type": "markdown",
   "metadata": {},
   "source": [
    "### pandas"
   ]
  },
  {
   "cell_type": "code",
   "execution_count": 7,
   "metadata": {},
   "outputs": [],
   "source": [
    "data = pd.read_parquet('data/house_prices.parquet').reset_index(drop=True)\n",
    "y = data['SalePrice']\n",
    "y = y.astype(float)\n",
    "X = data.drop('SalePrice', axis=1)\n",
    "\n",
    "train_test_split = TrainTestSplit(test_ratio=0.3, strategy='ordered')\n",
    "X_train, X_test, y_train, y_test = train_test_split.transform(X, y)"
   ]
  },
  {
   "cell_type": "code",
   "execution_count": 8,
   "metadata": {},
   "outputs": [
    {
     "data": {
      "text/html": [
       "<div>\n",
       "<style scoped>\n",
       "    .dataframe tbody tr th:only-of-type {\n",
       "        vertical-align: middle;\n",
       "    }\n",
       "\n",
       "    .dataframe tbody tr th {\n",
       "        vertical-align: top;\n",
       "    }\n",
       "\n",
       "    .dataframe thead th {\n",
       "        text-align: right;\n",
       "    }\n",
       "</style>\n",
       "<table border=\"1\" class=\"dataframe\">\n",
       "  <thead>\n",
       "    <tr style=\"text-align: right;\">\n",
       "      <th></th>\n",
       "      <th>count</th>\n",
       "      <th>mean</th>\n",
       "      <th>std</th>\n",
       "      <th>min</th>\n",
       "      <th>25%</th>\n",
       "      <th>50%</th>\n",
       "      <th>75%</th>\n",
       "      <th>max</th>\n",
       "    </tr>\n",
       "  </thead>\n",
       "  <tbody>\n",
       "    <tr>\n",
       "      <th>SalePrice</th>\n",
       "      <td>1022.0</td>\n",
       "      <td>181713.254403</td>\n",
       "      <td>79854.663341</td>\n",
       "      <td>34900.0</td>\n",
       "      <td>130000.0</td>\n",
       "      <td>163745.0</td>\n",
       "      <td>214975.0</td>\n",
       "      <td>755000.0</td>\n",
       "    </tr>\n",
       "  </tbody>\n",
       "</table>\n",
       "</div>"
      ],
      "text/plain": [
       "            count           mean           std      min       25%       50%  \\\n",
       "SalePrice  1022.0  181713.254403  79854.663341  34900.0  130000.0  163745.0   \n",
       "\n",
       "                75%       max  \n",
       "SalePrice  214975.0  755000.0  "
      ]
     },
     "execution_count": 8,
     "metadata": {},
     "output_type": "execute_result"
    }
   ],
   "source": [
    "# target analysis\n",
    "pd.DataFrame(y_train.describe()).T"
   ]
  },
  {
   "cell_type": "code",
   "execution_count": 9,
   "metadata": {},
   "outputs": [],
   "source": [
    "offline_pipe = Pipeline(steps=offline_steps)\n",
    "X_train_prepro = offline_pipe.fit_transform(X_train, y_train)\n",
    "X_train_prepro_np = offline_pipe.transform_numpy(X_train.to_numpy())"
   ]
  },
  {
   "cell_type": "code",
   "execution_count": 10,
   "metadata": {},
   "outputs": [
    {
     "data": {
      "image/png": "[encoded data removed]",
      "text/plain": [
       "<Figure size 648x648 with 1 Axes>"
      ]
     },
     "metadata": {
      "needs_background": "light"
     },
     "output_type": "display_data"
    }
   ],
   "source": [
    "offline_pipe.get_feature_importances(k=k).iloc[::-1].plot(\n",
    "    kind='barh', \n",
    "    figsize=(9, 9), \n",
    "    title='Feature Importance',\n",
    ");"
   ]
  },
  {
   "cell_type": "markdown",
   "metadata": {},
   "source": [
    "### koalas"
   ]
  },
  {
   "cell_type": "code",
   "execution_count": 11,
   "metadata": {},
   "outputs": [
    {
     "name": "stderr",
     "output_type": "stream",
     "text": [
      "21/09/30 09:47:27 WARN package: Truncated the string representation of a plan since it was too large. This behavior can be adjusted by setting 'spark.sql.debug.maxToStringFields'.\n",
      "                                                                                \r"
     ]
    }
   ],
   "source": [
    "data = ks.read_parquet('data/house_prices.parquet', index_col='Id')\n",
    "y_ks = data['SalePrice']\n",
    "y_ks = y_ks.astype(float)\n",
    "X_ks = data.drop('SalePrice', axis=1)\n",
    "\n",
    "train_test_split = TrainTestSplit(test_ratio=0.3, strategy='ordered')\n",
    "X_train_ks, X_test_ks, y_train_ks, y_test_ks = \\\n",
    "    train_test_split.transform(X_ks, y_ks)\n",
    "\n",
    "offline_pipe = Pipeline(steps=offline_steps)\n",
    "X_train_prepro_ks = offline_pipe.fit_transform(X_train_ks, y_train_ks)\n",
    "X_train_prepro_ks_np = offline_pipe.transform_numpy(X_train_ks.to_numpy())"
   ]
  },
  {
   "cell_type": "markdown",
   "metadata": {},
   "source": [
    "#### check pandas and koalas results match - offline pipeline "
   ]
  },
  {
   "cell_type": "code",
   "execution_count": 12,
   "metadata": {},
   "outputs": [],
   "source": [
    "assert_frame_equal(\n",
    "    X_train_prepro.reset_index(drop=True), \n",
    "    X_train_prepro_ks.to_pandas()\n",
    ")\n",
    "assert np.allclose(\n",
    "    X_train_prepro_np,\n",
    "    X_train_prepro_ks_np)"
   ]
  },
  {
   "cell_type": "markdown",
   "metadata": {},
   "source": [
    "## production pipeline"
   ]
  },
  {
   "cell_type": "code",
   "execution_count": 13,
   "metadata": {},
   "outputs": [],
   "source": [
    "features = offline_pipe.get_features()\n",
    "prod_columns = offline_pipe.get_production_columns()"
   ]
  },
  {
   "cell_type": "code",
   "execution_count": 14,
   "metadata": {},
   "outputs": [],
   "source": [
    "prod_steps = [\n",
    "    BinRareEvents(min_ratio=0.2),\n",
    "    ObjectImputer(strategy='constant', value='MISSING'),\n",
    "    OrdinalEncoder(),\n",
    "    IntImputer(strategy='constant', value=0),\n",
    "    FloatImputer(strategy='mean'),\n",
    "    PolynomialFeatures(\n",
    "        degree=2, \n",
    "        columns=polynomial_columns,\n",
    "        interaction_only=True),\n",
    "    KeepColumns(columns_to_keep=features),\n",
    "]"
   ]
  },
  {
   "cell_type": "markdown",
   "metadata": {},
   "source": [
    "### pandas"
   ]
  },
  {
   "cell_type": "code",
   "execution_count": 15,
   "metadata": {},
   "outputs": [],
   "source": [
    "X_train_prod = X_train[prod_columns]\n",
    "X_train_prod_np = X_train_prod.to_numpy()\n",
    "\n",
    "prod_pipe = Pipeline(steps=prod_steps)\n",
    "_ = prod_pipe.fit(X_train_prod, y_train)\n",
    "X_train_prod_prepro = prod_pipe.transform(X_train_prod)\n",
    "X_train_prod_prepro_np = prod_pipe.transform_numpy(\n",
    "    X_train_prod.to_numpy())"
   ]
  },
  {
   "cell_type": "markdown",
   "metadata": {},
   "source": [
    "### koalas"
   ]
  },
  {
   "cell_type": "code",
   "execution_count": 16,
   "metadata": {},
   "outputs": [],
   "source": [
    "X_train_prod_ks = X_train_ks[prod_columns]\n",
    "X_train_prod_ks_np = X_train_prod.to_numpy()\n",
    "\n",
    "prod_pipe = Pipeline(steps=prod_steps)\n",
    "_ = prod_pipe.fit(X_train_prod_ks, y_train_ks)\n",
    "X_train_prod_prepro_ks = prod_pipe.transform(X_train_prod_ks)\n",
    "X_train_prod_prepro_ks_np = prod_pipe.transform_numpy(\n",
    "    X_train_prod_ks.to_numpy())"
   ]
  },
  {
   "cell_type": "markdown",
   "metadata": {},
   "source": [
    "#### check offline pipeline and production pipeline match"
   ]
  },
  {
   "cell_type": "code",
   "execution_count": 17,
   "metadata": {},
   "outputs": [],
   "source": [
    "assert_frame_equal(\n",
    "    X_train_prepro, \n",
    "    X_train_prod_prepro\n",
    ")\n",
    "assert_frame_equal(\n",
    "    X_train_prepro_ks.to_pandas(), \n",
    "    X_train_prod_prepro_ks.to_pandas()\n",
    ")"
   ]
  },
  {
   "cell_type": "markdown",
   "metadata": {},
   "source": [
    "#### check pandas and koalas results match - production pipeline"
   ]
  },
  {
   "cell_type": "code",
   "execution_count": 18,
   "metadata": {},
   "outputs": [],
   "source": [
    "assert np.allclose(\n",
    "    X_train_prod_prepro_np,\n",
    "    X_train_prod_prepro_ks_np)\n",
    "assert_frame_equal(\n",
    "    X_train_prod_prepro, \n",
    "    X_train_prod_prepro_ks.to_pandas()\n",
    ")\n",
    "assert np.allclose(\n",
    "    X_train_prod_prepro_np,\n",
    "    X_train_prod_prepro_ks_np)"
   ]
  },
  {
   "cell_type": "markdown",
   "metadata": {},
   "source": [
    "## model building"
   ]
  },
  {
   "cell_type": "markdown",
   "metadata": {},
   "source": [
    "### numpy"
   ]
  },
  {
   "cell_type": "code",
   "execution_count": 19,
   "metadata": {},
   "outputs": [
    {
     "name": "stdout",
     "output_type": "stream",
     "text": [
      "100%|████████| 10/10 [00:06<00:00,  1.53trial/s, best loss: -0.8671634162836671]\n"
     ]
    }
   ],
   "source": [
    "features = list(X_train_prod_prepro.columns)\n",
    "n_splits = 10\n",
    "max_evals = 10\n",
    "kfold = KFold(n_splits=n_splits)\n",
    "space = {\n",
    "    'n_estimators': hp.quniform('n_estimators', 50, 100, 10),\n",
    "    'max_depth': hp.quniform('max_depth', 2, 5, 1),\n",
    "    'learning_rate': hp.loguniform('learning_rate', -5, 0),\n",
    "    'subsample': hp.uniform('subsample', 0.6, 1),\n",
    "    'colsample_bytree': hp.uniform('colsample_bytree', 0.6, 1),\n",
    " }\n",
    "\n",
    "model = LGBMRegressor(\n",
    "    random_state=0\n",
    ")\n",
    "hyper = HyperOpt(\n",
    "    model=model,\n",
    "    algo=tpe.suggest,\n",
    "    scoring='r2',\n",
    "    space=space,\n",
    "    max_evals=max_evals, \n",
    "    kfold=kfold,\n",
    "    features=features,\n",
    "    )\n",
    "_ = hyper.fit(X_train_prod_prepro_np, y_train.to_numpy())"
   ]
  },
  {
   "cell_type": "code",
   "execution_count": 20,
   "metadata": {},
   "outputs": [
    {
     "data": {
      "image/png": "[encoded data removed]",
      "text/plain": [
       "<Figure size 648x648 with 1 Axes>"
      ]
     },
     "metadata": {
      "needs_background": "light"
     },
     "output_type": "display_data"
    }
   ],
   "source": [
    "hyper.get_feature_importances().iloc[::-1].plot(\n",
    "    kind='barh', \n",
    "    figsize=(9, 9), \n",
    "    title='Most important features',\n",
    ");"
   ]
  },
  {
   "cell_type": "code",
   "execution_count": 21,
   "metadata": {},
   "outputs": [
    {
     "data": {
      "text/html": [
       "<div>\n",
       "<style scoped>\n",
       "    .dataframe tbody tr th:only-of-type {\n",
       "        vertical-align: middle;\n",
       "    }\n",
       "\n",
       "    .dataframe tbody tr th {\n",
       "        vertical-align: top;\n",
       "    }\n",
       "\n",
       "    .dataframe thead th {\n",
       "        text-align: right;\n",
       "    }\n",
       "</style>\n",
       "<table border=\"1\" class=\"dataframe\">\n",
       "  <thead>\n",
       "    <tr style=\"text-align: right;\">\n",
       "      <th></th>\n",
       "      <th>colsample_bytree</th>\n",
       "      <th>learning_rate</th>\n",
       "      <th>max_depth</th>\n",
       "      <th>n_estimators</th>\n",
       "      <th>subsample</th>\n",
       "      <th>loss</th>\n",
       "      <th>status</th>\n",
       "      <th>id</th>\n",
       "    </tr>\n",
       "  </thead>\n",
       "  <tbody>\n",
       "    <tr>\n",
       "      <th>6</th>\n",
       "      <td>0.733368</td>\n",
       "      <td>0.076602</td>\n",
       "      <td>4.0</td>\n",
       "      <td>100.0</td>\n",
       "      <td>0.935267</td>\n",
       "      <td>-0.867163</td>\n",
       "      <td>ok</td>\n",
       "      <td>6</td>\n",
       "    </tr>\n",
       "    <tr>\n",
       "      <th>4</th>\n",
       "      <td>0.927167</td>\n",
       "      <td>0.065564</td>\n",
       "      <td>3.0</td>\n",
       "      <td>90.0</td>\n",
       "      <td>0.658968</td>\n",
       "      <td>-0.866158</td>\n",
       "      <td>ok</td>\n",
       "      <td>4</td>\n",
       "    </tr>\n",
       "    <tr>\n",
       "      <th>2</th>\n",
       "      <td>0.705010</td>\n",
       "      <td>0.134891</td>\n",
       "      <td>5.0</td>\n",
       "      <td>100.0</td>\n",
       "      <td>0.703349</td>\n",
       "      <td>-0.855558</td>\n",
       "      <td>ok</td>\n",
       "      <td>2</td>\n",
       "    </tr>\n",
       "    <tr>\n",
       "      <th>1</th>\n",
       "      <td>0.943498</td>\n",
       "      <td>0.170913</td>\n",
       "      <td>4.0</td>\n",
       "      <td>80.0</td>\n",
       "      <td>0.812386</td>\n",
       "      <td>-0.853450</td>\n",
       "      <td>ok</td>\n",
       "      <td>1</td>\n",
       "    </tr>\n",
       "    <tr>\n",
       "      <th>9</th>\n",
       "      <td>0.779439</td>\n",
       "      <td>0.716896</td>\n",
       "      <td>4.0</td>\n",
       "      <td>90.0</td>\n",
       "      <td>0.636822</td>\n",
       "      <td>-0.816832</td>\n",
       "      <td>ok</td>\n",
       "      <td>9</td>\n",
       "    </tr>\n",
       "    <tr>\n",
       "      <th>5</th>\n",
       "      <td>0.672439</td>\n",
       "      <td>0.028091</td>\n",
       "      <td>4.0</td>\n",
       "      <td>60.0</td>\n",
       "      <td>0.693006</td>\n",
       "      <td>-0.815979</td>\n",
       "      <td>ok</td>\n",
       "      <td>5</td>\n",
       "    </tr>\n",
       "    <tr>\n",
       "      <th>0</th>\n",
       "      <td>0.833365</td>\n",
       "      <td>0.017917</td>\n",
       "      <td>5.0</td>\n",
       "      <td>80.0</td>\n",
       "      <td>0.794419</td>\n",
       "      <td>-0.798830</td>\n",
       "      <td>ok</td>\n",
       "      <td>0</td>\n",
       "    </tr>\n",
       "    <tr>\n",
       "      <th>7</th>\n",
       "      <td>0.695419</td>\n",
       "      <td>0.016931</td>\n",
       "      <td>3.0</td>\n",
       "      <td>90.0</td>\n",
       "      <td>0.986852</td>\n",
       "      <td>-0.785819</td>\n",
       "      <td>ok</td>\n",
       "      <td>7</td>\n",
       "    </tr>\n",
       "    <tr>\n",
       "      <th>3</th>\n",
       "      <td>0.696185</td>\n",
       "      <td>0.017551</td>\n",
       "      <td>3.0</td>\n",
       "      <td>50.0</td>\n",
       "      <td>0.811477</td>\n",
       "      <td>-0.659360</td>\n",
       "      <td>ok</td>\n",
       "      <td>3</td>\n",
       "    </tr>\n",
       "    <tr>\n",
       "      <th>8</th>\n",
       "      <td>0.621090</td>\n",
       "      <td>0.007723</td>\n",
       "      <td>4.0</td>\n",
       "      <td>80.0</td>\n",
       "      <td>0.804196</td>\n",
       "      <td>-0.574611</td>\n",
       "      <td>ok</td>\n",
       "      <td>8</td>\n",
       "    </tr>\n",
       "  </tbody>\n",
       "</table>\n",
       "</div>"
      ],
      "text/plain": [
       "   colsample_bytree  learning_rate  max_depth  n_estimators  subsample  \\\n",
       "6          0.733368       0.076602        4.0         100.0   0.935267   \n",
       "4          0.927167       0.065564        3.0          90.0   0.658968   \n",
       "2          0.705010       0.134891        5.0         100.0   0.703349   \n",
       "1          0.943498       0.170913        4.0          80.0   0.812386   \n",
       "9          0.779439       0.716896        4.0          90.0   0.636822   \n",
       "5          0.672439       0.028091        4.0          60.0   0.693006   \n",
       "0          0.833365       0.017917        5.0          80.0   0.794419   \n",
       "7          0.695419       0.016931        3.0          90.0   0.986852   \n",
       "3          0.696185       0.017551        3.0          50.0   0.811477   \n",
       "8          0.621090       0.007723        4.0          80.0   0.804196   \n",
       "\n",
       "       loss status  id  \n",
       "6 -0.867163     ok   6  \n",
       "4 -0.866158     ok   4  \n",
       "2 -0.855558     ok   2  \n",
       "1 -0.853450     ok   1  \n",
       "9 -0.816832     ok   9  \n",
       "5 -0.815979     ok   5  \n",
       "0 -0.798830     ok   0  \n",
       "7 -0.785819     ok   7  \n",
       "3 -0.659360     ok   3  \n",
       "8 -0.574611     ok   8  "
      ]
     },
     "execution_count": 21,
     "metadata": {},
     "output_type": "execute_result"
    }
   ],
   "source": [
    "hyper.history.sort_values('loss')"
   ]
  },
  {
   "cell_type": "code",
   "execution_count": 22,
   "metadata": {},
   "outputs": [],
   "source": [
    "model_np = copy.copy(hyper.model)\n",
    "model_path = 'models/model_lgbm_house.dill'\n",
    "with open(model_path, 'wb') as file:\n",
    "    dill.dump(model_np, file)"
   ]
  },
  {
   "cell_type": "markdown",
   "metadata": {},
   "source": [
    "### pandas"
   ]
  },
  {
   "cell_type": "code",
   "execution_count": 23,
   "metadata": {},
   "outputs": [],
   "source": [
    "model_pd = copy.copy(model_np)\n",
    "_ = model_pd.fit(X_train_prod_prepro, y_train)"
   ]
  },
  {
   "cell_type": "markdown",
   "metadata": {},
   "source": [
    "### treelite"
   ]
  },
  {
   "cell_type": "code",
   "execution_count": 24,
   "metadata": {},
   "outputs": [
    {
     "name": "stdout",
     "output_type": "stream",
     "text": [
      "[09:48:39] ../src/compiler/ast/split.cc:31: Parallel compilation enabled; member trees will be divided into 4 translation units.\n",
      "[09:48:40] ../src/compiler/ast_native.cc:45: Using ASTNativeCompiler\n",
      "[09:48:40] ../src/compiler/ast/split.cc:31: Parallel compilation enabled; member trees will be divided into 4 translation units.\n",
      "[09:48:40] ../src/c_api/c_api.cc:121: Code generation finished. Writing code to files...\n",
      "[09:48:40] ../src/c_api/c_api.cc:126: Writing file recipe.json...\n",
      "[09:48:40] ../src/c_api/c_api.cc:126: Writing file tu3.c...\n",
      "[09:48:40] ../src/c_api/c_api.cc:126: Writing file tu2.c...\n",
      "[09:48:40] ../src/c_api/c_api.cc:126: Writing file tu1.c...\n",
      "[09:48:40] ../src/c_api/c_api.cc:126: Writing file tu0.c...\n",
      "[09:48:40] ../src/c_api/c_api.cc:126: Writing file header.h...\n",
      "[09:48:40] ../src/c_api/c_api.cc:126: Writing file main.c...\n"
     ]
    }
   ],
   "source": [
    "LGBMTreeliteDumper().dump(\n",
    "    model=model_np, \n",
    "    toolchain='gcc',\n",
    "    parallel_comp=4,\n",
    "    model_path='./models/', \n",
    "    model_name='treelite_lgbm_house')"
   ]
  },
  {
   "cell_type": "code",
   "execution_count": 25,
   "metadata": {},
   "outputs": [],
   "source": [
    "import treelite_runtime\n",
    "model_tl = treelite_runtime.Predictor(\n",
    "    './models/treelite_lgbm_house.so', verbose=False)"
   ]
  },
  {
   "cell_type": "markdown",
   "metadata": {},
   "source": [
    "#### check the models prediction match"
   ]
  },
  {
   "cell_type": "code",
   "execution_count": 26,
   "metadata": {},
   "outputs": [],
   "source": [
    "X_test_np = X_test.to_numpy()\n",
    "y_pred_pd = model_pd.predict(\n",
    "    prod_pipe.transform(X_train_prod))\n",
    "y_pred_np = model.predict(\n",
    "    prod_pipe.transform_numpy(X_train_prod_np.copy()))\n",
    "y_pred_tl = model_tl.predict(\n",
    "    treelite_runtime.DMatrix(\n",
    "        prod_pipe.transform_numpy(\n",
    "            X_train_prod_np.copy()\n",
    "        )\n",
    "    )\n",
    ")\n",
    "assert np.allclose(y_pred_np, y_pred_pd)\n",
    "assert np.allclose(y_pred_np, y_pred_tl)"
   ]
  },
  {
   "cell_type": "markdown",
   "metadata": {},
   "source": [
    "## model evaluation"
   ]
  },
  {
   "cell_type": "code",
   "execution_count": 27,
   "metadata": {},
   "outputs": [
    {
     "data": {
      "text/plain": [
       "'R2 score: 0.85'"
      ]
     },
     "execution_count": 27,
     "metadata": {},
     "output_type": "execute_result"
    }
   ],
   "source": [
    "X_test_prod = X_test[prod_columns]\n",
    "X_test_prod_np = X_test_prod.to_numpy()\n",
    "X_test_prod_prepro_np = prod_pipe.transform(X_test_prod).to_numpy()\n",
    "y_test_pred = model_np.predict(X_test_prod_prepro_np)\n",
    "f'R2 score: {r2_score(y_test, y_test_pred):.2f}'"
   ]
  },
  {
   "cell_type": "markdown",
   "metadata": {},
   "source": [
    "## per-sample bechmarking"
   ]
  },
  {
   "cell_type": "markdown",
   "metadata": {},
   "source": [
    "### pipeline only"
   ]
  },
  {
   "cell_type": "code",
   "execution_count": 28,
   "metadata": {},
   "outputs": [
    {
     "name": "stdout",
     "output_type": "stream",
     "text": [
      "20.2 ms ± 734 µs per loop (mean ± std. dev. of 7 runs, 10 loops each)\n",
      "47.1 µs ± 1.36 µs per loop (mean ± std. dev. of 7 runs, 10000 loops each)\n"
     ]
    }
   ],
   "source": [
    "x = X_test_prod.iloc[[1]]\n",
    "xnp = x.to_numpy()\n",
    "stats_pd = %timeit -o prod_pipe.transform(x)\n",
    "stats_np = %timeit -o prod_pipe.transform_numpy(xnp.copy())"
   ]
  },
  {
   "cell_type": "code",
   "execution_count": 29,
   "metadata": {},
   "outputs": [
    {
     "data": {
      "text/plain": [
       "'Speed-up Pandas VS Numpy x429'"
      ]
     },
     "execution_count": 29,
     "metadata": {},
     "output_type": "execute_result"
    }
   ],
   "source": [
    "speedup = 1e3 * float(str(stats_pd).split(' ')[0]) / float(str(stats_np).split(' ')[0])\n",
    "f'Speed-up Pandas VS Numpy x{round(speedup)}'"
   ]
  },
  {
   "cell_type": "markdown",
   "metadata": {},
   "source": [
    "### pipeline & model"
   ]
  },
  {
   "cell_type": "code",
   "execution_count": 30,
   "metadata": {},
   "outputs": [
    {
     "name": "stdout",
     "output_type": "stream",
     "text": [
      "33 ms ± 1.92 ms per loop (mean ± std. dev. of 7 runs, 10 loops each)\n",
      "263 µs ± 15.3 µs per loop (mean ± std. dev. of 7 runs, 1000 loops each)\n",
      "96.9 µs ± 1.23 µs per loop (mean ± std. dev. of 7 runs, 10000 loops each)\n"
     ]
    }
   ],
   "source": [
    "stats_pd = %timeit -o model_pd.predict(prod_pipe.transform(x))[0]\n",
    "stats_np = %timeit -o model.predict(prod_pipe.transform_numpy(xnp.copy()))[0]\n",
    "stats_tl = %timeit -o  model_tl.predict(treelite_runtime.DMatrix(prod_pipe.transform_numpy(xnp.copy())))"
   ]
  },
  {
   "cell_type": "code",
   "execution_count": 31,
   "metadata": {},
   "outputs": [
    {
     "data": {
      "text/plain": [
       "'Speed-up Pandas VS Numpy x125'"
      ]
     },
     "execution_count": 31,
     "metadata": {},
     "output_type": "execute_result"
    }
   ],
   "source": [
    "speedup = 1e3 * float(str(stats_pd).split(' ')[0]) / float(str(stats_np).split(' ')[0])\n",
    "f'Speed-up Pandas VS Numpy x{round(speedup)}'"
   ]
  },
  {
   "cell_type": "code",
   "execution_count": 32,
   "metadata": {},
   "outputs": [
    {
     "data": {
      "text/plain": [
       "'Speed-up Pandas VS Numpy&Treelite x341'"
      ]
     },
     "execution_count": 32,
     "metadata": {},
     "output_type": "execute_result"
    }
   ],
   "source": [
    "speedup = 1e3 * float(str(stats_pd).split(' ')[0]) / float(str(stats_tl).split(' ')[0])\n",
    "f'Speed-up Pandas VS Numpy&Treelite x{round(speedup)}'"
   ]
  }
 ],
 "metadata": {
  "kernelspec": {
   "display_name": "gators38",
   "language": "python",
   "name": "gators38"
  },
  "language_info": {
   "codemirror_mode": {
    "name": "ipython",
    "version": 3
   },
   "file_extension": ".py",
   "mimetype": "text/x-python",
   "name": "python",
   "nbconvert_exporter": "python",
   "pygments_lexer": "ipython3",
   "version": "3.8.7"
  }
 },
 "nbformat": 4,
 "nbformat_minor": 2
}
