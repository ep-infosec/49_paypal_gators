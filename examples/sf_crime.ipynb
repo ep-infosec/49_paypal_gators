{
 "cells": [
  {
   "cell_type": "markdown",
   "source": [
    "# multiclass classification example - SF crime dataset"
   ],
   "metadata": {}
  },
  {
   "cell_type": "code",
   "execution_count": 1,
   "source": [
    "import warnings\n",
    "warnings.filterwarnings('ignore')"
   ],
   "outputs": [],
   "metadata": {}
  },
  {
   "cell_type": "code",
   "execution_count": 2,
   "source": [
    "%load_ext autoreload\n",
    "%autoreload 2"
   ],
   "outputs": [],
   "metadata": {}
  },
  {
   "cell_type": "code",
   "execution_count": 3,
   "source": [
    "import copy\n",
    "import numpy as np\n",
    "import pandas as pd\n",
    "import databricks.koalas as ks\n",
    "from pandas.testing import assert_frame_equal\n",
    "from lightgbm import LGBMClassifier\n",
    "from xgboost import XGBClassifier\n",
    "from sklearn.model_selection import StratifiedKFold\n",
    "from sklearn.metrics import f1_score\n",
    "from hyperopt import hp\n",
    "from hyperopt import tpe"
   ],
   "outputs": [
    {
     "output_type": "stream",
     "name": "stderr",
     "text": [
      "WARNING:root:'PYARROW_IGNORE_TIMEZONE' environment variable was not set. It is required to set this environment variable to '1' in both driver and executor sides if you use pyarrow>=2.0.0. Koalas will set it for you but it does not work if there is a Spark context already launched.\n"
     ]
    }
   ],
   "metadata": {}
  },
  {
   "cell_type": "code",
   "execution_count": 4,
   "source": [
    "from pyspark import SparkConf, SparkContext\n",
    "conf = SparkConf()\n",
    "conf.set('spark.executor.memory', '2g')\n",
    "SparkContext(conf=conf)\n",
    "ks.set_option('compute.default_index_type', 'distributed-sequence')"
   ],
   "outputs": [
    {
     "output_type": "stream",
     "name": "stderr",
     "text": [
      "21/09/30 11:18:16 WARN NativeCodeLoader: Unable to load native-hadoop library for your platform... using builtin-java classes where applicable\n",
      "Using Spark's default log4j profile: org/apache/spark/log4j-defaults.properties\n",
      "Setting default log level to \"WARN\".\n",
      "To adjust logging level use sc.setLogLevel(newLevel). For SparkR, use setLogLevel(newLevel).\n",
      "21/09/30 11:18:17 WARN Utils: Service 'SparkUI' could not bind on port 4040. Attempting port 4041.\n",
      "21/09/30 11:18:17 WARN Utils: Service 'SparkUI' could not bind on port 4041. Attempting port 4042.\n"
     ]
    }
   ],
   "metadata": {}
  },
  {
   "cell_type": "code",
   "execution_count": 5,
   "source": [
    "from gators.util import util\n",
    "# converter\n",
    "from gators.converter import ConvertColumnDatatype\n",
    "# data cleaning\n",
    "from gators.data_cleaning import (\n",
    "    DropHighNaNRatio,\n",
    "    DropLowCardinality,\n",
    "    DropHighCardinality,\n",
    "    DropDatatypeColumns,\n",
    "    DropColumns,\n",
    "    KeepColumns\n",
    ")\n",
    "# imputers\n",
    "from gators.imputers import (\n",
    "    FloatImputer, \n",
    "    IntImputer, \n",
    "    ObjectImputer,\n",
    ")\n",
    "# encoders\n",
    "from gators.encoders import (\n",
    "    WOEEncoder, \n",
    "    MultiClassEncoder, \n",
    "    TargetEncoder,\n",
    "    OrdinalEncoder,\n",
    ")\n",
    "# binning\n",
    "from gators.binning import BinRareEvents\n",
    "# feature generation\n",
    "from gators.feature_generation import (\n",
    "    ClusterStatistics,\n",
    ")\n",
    "from gators.feature_generation_str import (\n",
    "    StringContains,\n",
    "    StringLength,\n",
    "    Extract,\n",
    "    SplitExtract,\n",
    ")\n",
    "from gators.feature_generation_dt import (\n",
    "    CyclicHourOfDay,\n",
    "    CyclicDayOfMonth,\n",
    "    CyclicDayOfWeek,\n",
    "    CyclicMonthOfYear,\n",
    "    OrdinalDayOfMonth,\n",
    "    OrdinalMonthOfYear,\n",
    "    OrdinalDayOfWeek,\n",
    "    OrdinalHourOfDay,\n",
    ")\n",
    "# feature selection\n",
    "from gators.feature_selection import (\n",
    "    InformationValue,\n",
    "    SelectFromModel,\n",
    ")\n",
    "# feature generation\n",
    "from gators.feature_generation import PlaneRotation\n",
    "# model building\n",
    "from gators.model_building import (\n",
    "    TrainTestSplit,\n",
    "    HyperOpt,\n",
    "    XGBBoosterBuilder,\n",
    "    XGBTreeliteDumper,\n",
    "    LGBMTreeliteDumper,\n",
    ")\n",
    "# pipeline\n",
    "from gators.pipeline import Pipeline"
   ],
   "outputs": [],
   "metadata": {
    "scrolled": true
   }
  },
  {
   "cell_type": "markdown",
   "source": [
    "## offline pipeline - feature selection"
   ],
   "metadata": {}
  },
  {
   "cell_type": "code",
   "execution_count": 6,
   "source": [
    "model = LGBMClassifier(random_state=0, n_jobs=-1)\n",
    "k = 60\n",
    "\n",
    "offline_steps = [\n",
    "    ConvertColumnDatatype(columns=['Dates'], datatype='datetime64[ns]'),\n",
    "    OrdinalHourOfDay(columns=['Dates']),\n",
    "    OrdinalDayOfWeek(columns=['Dates']),\n",
    "    CyclicHourOfDay(columns=['Dates']),\n",
    "    CyclicDayOfWeek(columns=['Dates']),\n",
    "    StringContains(\n",
    "        columns=['Address', 'Address', 'Address', 'Address'], \n",
    "        contains_vec=['/', 'AV', 'ST', 'Block'], \n",
    "        column_names=['IsIntersection', 'IsAvenue', 'IsStreet', 'IsBlock']),\n",
    "    DropColumns(columns=['Dates', 'Address']),\n",
    "    OrdinalEncoder(),\n",
    "    PlaneRotation(\n",
    "        columns= [['X','Y']], \n",
    "        theta_vec= np.arange(5, 46, 5).tolist()),\n",
    "    SelectFromModel(\n",
    "        model=model, k=k)\n",
    "]\n",
    "offline_pipe = Pipeline(steps=offline_steps)"
   ],
   "outputs": [],
   "metadata": {}
  },
  {
   "cell_type": "markdown",
   "source": [
    "### pandas"
   ],
   "metadata": {}
  },
  {
   "cell_type": "code",
   "execution_count": 7,
   "source": [
    "data = pd.read_parquet('data/sf_crime.parquet')\n",
    "y = data['Category'].copy()\n",
    "X = data.drop(\n",
    "    ['Resolution', 'Descript', 'DayOfWeek', 'Category'], axis=1)\n",
    "\n",
    "base_columns = list(X.columns)\n",
    "classes = y.unique()\n",
    "mapping = dict(zip(classes, range(len(classes))))\n",
    "y = y.replace(mapping)\n",
    "\n",
    "train_test_split = TrainTestSplit(test_ratio=0.3, strategy='ordered')\n",
    "X_train, X_test, y_train, y_test = train_test_split.transform(X, y)\n",
    "X_train = X_train.reset_index().drop('Id', axis=1)\n",
    "X_test = X_test.reset_index().drop('Id', axis=1)"
   ],
   "outputs": [],
   "metadata": {}
  },
  {
   "cell_type": "code",
   "execution_count": 8,
   "source": [
    "# target analysis\n",
    "data['Category'].value_counts().iloc[::-1].plot(kind='barh');"
   ],
   "outputs": [
    {
     "output_type": "display_data",
     "data": {
      "text/plain": [
       "<Figure size 432x288 with 1 Axes>"
      ],
      "image/png": "[encoded data removed]"
     },
     "metadata": {
      "needs_background": "light"
     }
    }
   ],
   "metadata": {}
  },
  {
   "cell_type": "code",
   "execution_count": 9,
   "source": [
    "X_train_prepro = offline_pipe.fit_transform(X_train, y_train)\n",
    "X_train_prepro_np = offline_pipe.transform_numpy(X_train.to_numpy())"
   ],
   "outputs": [],
   "metadata": {}
  },
  {
   "cell_type": "code",
   "execution_count": 10,
   "source": [
    "offline_pipe.get_feature_importances(k)[::-1].plot(\n",
    "    kind='barh', \n",
    "    figsize=(9,9), \n",
    "    title='Feature Importance',\n",
    ");"
   ],
   "outputs": [
    {
     "output_type": "display_data",
     "data": {
      "text/plain": [
       "<Figure size 648x648 with 1 Axes>"
      ],
      "image/png": "[encoded data removed]"
     },
     "metadata": {
      "needs_background": "light"
     }
    }
   ],
   "metadata": {}
  },
  {
   "cell_type": "markdown",
   "source": [
    "### koalas"
   ],
   "metadata": {}
  },
  {
   "cell_type": "code",
   "execution_count": 11,
   "source": [
    "data = ks.read_parquet('data/sf_crime.parquet', index_col='Id')\n",
    "y_ks = data['Category']\n",
    "X_ks = data.drop(\n",
    "    ['Resolution', 'Descript', 'DayOfWeek', 'Category'], axis=1)\n",
    "X_ks.index.name = None\n",
    "y_ks = y_ks.replace(mapping).astype(int)\n",
    "\n",
    "train_test_split = TrainTestSplit(test_ratio=0.3, strategy='ordered')\n",
    "X_train_ks, X_test_ks, y_train_ks, y_test_ks = \\\n",
    "    train_test_split.transform(X_ks, y_ks)"
   ],
   "outputs": [
    {
     "output_type": "stream",
     "name": "stderr",
     "text": [
      "                                                                                \r"
     ]
    }
   ],
   "metadata": {}
  },
  {
   "cell_type": "code",
   "execution_count": 12,
   "source": [
    "offline_pipe = Pipeline(steps=offline_steps)\n",
    "X_train_prepro_ks = offline_pipe.fit_transform(X_train_ks, y_train_ks)\n",
    "X_train_prepro_ks_np = offline_pipe.transform_numpy(X_train_ks.to_numpy())"
   ],
   "outputs": [
    {
     "output_type": "stream",
     "name": "stderr",
     "text": [
      "21/09/30 11:18:41 WARN package: Truncated the string representation of a plan since it was too large. This behavior can be adjusted by setting 'spark.sql.debug.maxToStringFields'.\n"
     ]
    }
   ],
   "metadata": {}
  },
  {
   "cell_type": "markdown",
   "source": [
    "#### check pandas and koalas results match - offline pipeline"
   ],
   "metadata": {}
  },
  {
   "cell_type": "code",
   "execution_count": 13,
   "source": [
    "assert_frame_equal(\n",
    "    X_train_prepro, \n",
    "    X_train_prepro_ks.to_pandas()\n",
    ")\n",
    "assert np.allclose(\n",
    "    X_train_prepro_np,\n",
    "    X_train_prepro_ks_np)"
   ],
   "outputs": [],
   "metadata": {}
  },
  {
   "cell_type": "markdown",
   "source": [
    "## production pipeline"
   ],
   "metadata": {}
  },
  {
   "cell_type": "code",
   "execution_count": 14,
   "source": [
    "prod_columns = list(X_train.columns)\n",
    "features = offline_pipe.get_features()\n",
    "theta_vec = np.unique([int(f.split('deg')[0].split('_')[-1]) for f in features if 'deg' in f])"
   ],
   "outputs": [],
   "metadata": {}
  },
  {
   "cell_type": "code",
   "execution_count": 15,
   "source": [
    "\n",
    "prod_steps = [\n",
    "    ConvertColumnDatatype(['Dates'], 'datetime64[ns]'),\n",
    "    OrdinalHourOfDay(columns=['Dates']),\n",
    "    OrdinalDayOfWeek(columns=['Dates']),\n",
    "    CyclicHourOfDay(columns=['Dates']),\n",
    "    CyclicDayOfWeek(columns=['Dates']),\n",
    "    StringContains(\n",
    "        columns=['Address', 'Address', 'Address', 'Address'], \n",
    "        contains_vec=['/', 'AV', 'ST', 'Block'], \n",
    "        column_names=['IsIntersection', 'IsAvenue', 'IsStreet', 'IsBlock']),\n",
    "    DropColumns(['Dates', 'Address']),\n",
    "    OrdinalEncoder(),\n",
    "    PlaneRotation(\n",
    "        columns= [['X','Y']], \n",
    "        theta_vec= theta_vec.tolist()),\n",
    "    KeepColumns(columns_to_keep=features)\n",
    "]"
   ],
   "outputs": [],
   "metadata": {}
  },
  {
   "cell_type": "markdown",
   "source": [
    "### pandas"
   ],
   "metadata": {}
  },
  {
   "cell_type": "code",
   "execution_count": 16,
   "source": [
    "X_train_prod = X_train[prod_columns]\n",
    "X_train_prod_np = X_train_prod.to_numpy()\n",
    "X_test_prod = X_test[prod_columns]\n",
    "X_test_prod_np = X_test_prod.to_numpy()\n",
    "\n",
    "prod_pipe = Pipeline(steps=prod_steps)\n",
    "_ = prod_pipe.fit(X_train_prod, y_train)\n",
    "X_train_prod_prepro = prod_pipe.transform(X_train_prod)\n",
    "X_train_prod_prepro_np = prod_pipe.transform_numpy(\n",
    "    X_train_prod.to_numpy())\n",
    "X_test_prod_prepro = prod_pipe.transform(X_test_prod)\n",
    "X_test_prod_prepro_np = prod_pipe.transform_numpy(\n",
    "    X_test_prod.to_numpy())"
   ],
   "outputs": [],
   "metadata": {}
  },
  {
   "cell_type": "markdown",
   "source": [
    "### koalas"
   ],
   "metadata": {}
  },
  {
   "cell_type": "code",
   "execution_count": 17,
   "source": [
    "X_train_prod_ks = X_train_ks[base_columns]\n",
    "X_test_prod_ks = X_test_ks[base_columns]\n",
    "X_train_prod_ks_np = X_train_prod_ks.to_numpy()\n",
    "X_test_prod_ks_np = X_test_prod_ks.to_numpy()\n",
    "\n",
    "prod_pipe = Pipeline(steps=prod_steps)\n",
    "_ = prod_pipe.fit(X_train_prod_ks, y_train_ks)\n",
    "X_train_prod_prepro_ks = prod_pipe.transform(X_train_prod_ks)\n",
    "X_test_prod_prepro_ks = prod_pipe.transform(X_test_prod_ks)\n",
    "X_train_prod_prepro_ks_np = prod_pipe.transform_numpy(\n",
    "    X_train_prod_ks.to_numpy())\n",
    "X_test_prod_prepro_ks_np = prod_pipe.transform_numpy(\n",
    "    X_test_prod_ks.to_numpy())"
   ],
   "outputs": [
    {
     "output_type": "stream",
     "name": "stderr",
     "text": [
      "                                                                                \r"
     ]
    }
   ],
   "metadata": {}
  },
  {
   "cell_type": "markdown",
   "source": [
    "#### check offline pipeline and production pipeline match"
   ],
   "metadata": {}
  },
  {
   "cell_type": "code",
   "execution_count": 18,
   "source": [
    "assert_frame_equal(\n",
    "    X_train_prepro, \n",
    "    X_train_prod_prepro\n",
    ")\n",
    "assert_frame_equal(\n",
    "    X_train_prepro_ks.to_pandas(), \n",
    "    X_train_prod_prepro_ks.to_pandas()\n",
    ")"
   ],
   "outputs": [],
   "metadata": {}
  },
  {
   "cell_type": "markdown",
   "source": [
    "#### check pandas and koalas results match "
   ],
   "metadata": {}
  },
  {
   "cell_type": "code",
   "execution_count": 19,
   "source": [
    "assert_frame_equal(\n",
    "    X_train_prod_prepro, \n",
    "    X_train_prod_prepro_ks.to_pandas()\n",
    ")\n",
    "assert np.allclose(\n",
    "    X_train_prod_prepro_np,\n",
    "    X_train_prod_prepro_ks_np)\n",
    "assert_frame_equal(\n",
    "    X_test_prod_prepro, \n",
    "    X_test_prod_prepro_ks.to_pandas()\n",
    ")\n",
    "assert np.allclose(\n",
    "    X_test_prod_prepro_np,\n",
    "    X_test_prod_prepro_ks_np)"
   ],
   "outputs": [],
   "metadata": {}
  },
  {
   "cell_type": "markdown",
   "source": [
    "## model building"
   ],
   "metadata": {}
  },
  {
   "cell_type": "markdown",
   "source": [
    "### numpy"
   ],
   "metadata": {}
  },
  {
   "cell_type": "code",
   "execution_count": 20,
   "source": [
    "features = list(X_train_prod_prepro.columns)\n",
    "n_splits = 10\n",
    "max_evals = 10\n",
    "kfold = StratifiedKFold(n_splits=n_splits)\n",
    "space = {\n",
    "    'n_estimators': hp.quniform('n_estimators', 25, 200, 25),\n",
    "    'max_depth': hp.quniform('max_depth', 1, 2, 1),\n",
    "    'learning_rate': hp.loguniform('learning_rate', -3, 0),\n",
    "    'subsample': hp.uniform('subsample', 0.9, 1),\n",
    "    'colsample_bytree': hp.uniform('colsample_bytree', 0.9, 1),\n",
    " }\n",
    "model = LGBMClassifier(random_state=0, n_jobs=-1)\n",
    "hyper = HyperOpt(\n",
    "    model=model,\n",
    "    scoring='f1_macro',\n",
    "    algo=tpe.suggest,\n",
    "    space=space,\n",
    "    max_evals=max_evals, \n",
    "    kfold=kfold,\n",
    "    features=features,\n",
    "    )\n",
    "y_train_np = y_train.to_numpy()\n",
    "_ = hyper.fit(X_train_prod_prepro_np, y_train.to_numpy())"
   ],
   "outputs": [
    {
     "output_type": "stream",
     "name": "stdout",
     "text": [
      "100%|████████| 10/10 [00:54<00:00,  5.40s/trial, best loss: -0.1673606787658695]\n"
     ]
    }
   ],
   "metadata": {}
  },
  {
   "cell_type": "code",
   "execution_count": 21,
   "source": [
    "model_np = copy.copy(hyper.model)\n",
    "X_test_prod = X_test[prod_columns]\n",
    "X_test_prod_prepro_np = prod_pipe.transform(X_test_prod).to_numpy()\n",
    "y_test_pred = model_np.predict(X_test_prod_prepro_np)\n",
    "f'f1 score: {f1_score(y_test, y_test_pred, average=\"macro\"):.2f}'"
   ],
   "outputs": [
    {
     "output_type": "execute_result",
     "data": {
      "text/plain": [
       "'f1 score: 0.18'"
      ]
     },
     "metadata": {},
     "execution_count": 21
    }
   ],
   "metadata": {}
  },
  {
   "cell_type": "code",
   "execution_count": 22,
   "source": [
    "hyper.get_feature_importances().iloc[::-1].plot(\n",
    "    kind='barh', \n",
    "    figsize=(9, 9), \n",
    "    title='Most important features',\n",
    ");"
   ],
   "outputs": [
    {
     "output_type": "display_data",
     "data": {
      "text/plain": [
       "<Figure size 648x648 with 1 Axes>"
      ],
      "image/png": "[encoded data removed]"
     },
     "metadata": {
      "needs_background": "light"
     }
    }
   ],
   "metadata": {}
  },
  {
   "cell_type": "code",
   "execution_count": 23,
   "source": [
    "hyper.history.sort_values('loss')"
   ],
   "outputs": [
    {
     "output_type": "execute_result",
     "data": {
      "text/plain": [
       "   colsample_bytree  learning_rate  max_depth  n_estimators  subsample  \\\n",
       "2          0.926252       0.300600        2.0         200.0   0.925837   \n",
       "1          0.985874       0.346470        2.0         150.0   0.953096   \n",
       "6          0.933342       0.214064        2.0         200.0   0.983817   \n",
       "0          0.958341       0.089527        2.0         150.0   0.948605   \n",
       "5          0.918110       0.117257        2.0          75.0   0.923251   \n",
       "8          0.905273       0.054035        2.0         125.0   0.951049   \n",
       "4          0.981792       0.194985        1.0         150.0   0.914742   \n",
       "9          0.944860       0.818980        2.0         175.0   0.909205   \n",
       "7          0.923855       0.086539        1.0         150.0   0.996713   \n",
       "3          0.924046       0.088425        1.0          25.0   0.952869   \n",
       "\n",
       "       loss status  id  \n",
       "2 -0.167361     ok   2  \n",
       "1 -0.165375     ok   1  \n",
       "6 -0.162272     ok   6  \n",
       "0 -0.149989     ok   0  \n",
       "5 -0.137971     ok   5  \n",
       "8 -0.134075     ok   8  \n",
       "4 -0.129511     ok   4  \n",
       "9 -0.126706     ok   9  \n",
       "7 -0.109897     ok   7  \n",
       "3 -0.068088     ok   3  "
      ],
      "text/html": [
       "<div>\n",
       "<style scoped>\n",
       "    .dataframe tbody tr th:only-of-type {\n",
       "        vertical-align: middle;\n",
       "    }\n",
       "\n",
       "    .dataframe tbody tr th {\n",
       "        vertical-align: top;\n",
       "    }\n",
       "\n",
       "    .dataframe thead th {\n",
       "        text-align: right;\n",
       "    }\n",
       "</style>\n",
       "<table border=\"1\" class=\"dataframe\">\n",
       "  <thead>\n",
       "    <tr style=\"text-align: right;\">\n",
       "      <th></th>\n",
       "      <th>colsample_bytree</th>\n",
       "      <th>learning_rate</th>\n",
       "      <th>max_depth</th>\n",
       "      <th>n_estimators</th>\n",
       "      <th>subsample</th>\n",
       "      <th>loss</th>\n",
       "      <th>status</th>\n",
       "      <th>id</th>\n",
       "    </tr>\n",
       "  </thead>\n",
       "  <tbody>\n",
       "    <tr>\n",
       "      <th>2</th>\n",
       "      <td>0.926252</td>\n",
       "      <td>0.300600</td>\n",
       "      <td>2.0</td>\n",
       "      <td>200.0</td>\n",
       "      <td>0.925837</td>\n",
       "      <td>-0.167361</td>\n",
       "      <td>ok</td>\n",
       "      <td>2</td>\n",
       "    </tr>\n",
       "    <tr>\n",
       "      <th>1</th>\n",
       "      <td>0.985874</td>\n",
       "      <td>0.346470</td>\n",
       "      <td>2.0</td>\n",
       "      <td>150.0</td>\n",
       "      <td>0.953096</td>\n",
       "      <td>-0.165375</td>\n",
       "      <td>ok</td>\n",
       "      <td>1</td>\n",
       "    </tr>\n",
       "    <tr>\n",
       "      <th>6</th>\n",
       "      <td>0.933342</td>\n",
       "      <td>0.214064</td>\n",
       "      <td>2.0</td>\n",
       "      <td>200.0</td>\n",
       "      <td>0.983817</td>\n",
       "      <td>-0.162272</td>\n",
       "      <td>ok</td>\n",
       "      <td>6</td>\n",
       "    </tr>\n",
       "    <tr>\n",
       "      <th>0</th>\n",
       "      <td>0.958341</td>\n",
       "      <td>0.089527</td>\n",
       "      <td>2.0</td>\n",
       "      <td>150.0</td>\n",
       "      <td>0.948605</td>\n",
       "      <td>-0.149989</td>\n",
       "      <td>ok</td>\n",
       "      <td>0</td>\n",
       "    </tr>\n",
       "    <tr>\n",
       "      <th>5</th>\n",
       "      <td>0.918110</td>\n",
       "      <td>0.117257</td>\n",
       "      <td>2.0</td>\n",
       "      <td>75.0</td>\n",
       "      <td>0.923251</td>\n",
       "      <td>-0.137971</td>\n",
       "      <td>ok</td>\n",
       "      <td>5</td>\n",
       "    </tr>\n",
       "    <tr>\n",
       "      <th>8</th>\n",
       "      <td>0.905273</td>\n",
       "      <td>0.054035</td>\n",
       "      <td>2.0</td>\n",
       "      <td>125.0</td>\n",
       "      <td>0.951049</td>\n",
       "      <td>-0.134075</td>\n",
       "      <td>ok</td>\n",
       "      <td>8</td>\n",
       "    </tr>\n",
       "    <tr>\n",
       "      <th>4</th>\n",
       "      <td>0.981792</td>\n",
       "      <td>0.194985</td>\n",
       "      <td>1.0</td>\n",
       "      <td>150.0</td>\n",
       "      <td>0.914742</td>\n",
       "      <td>-0.129511</td>\n",
       "      <td>ok</td>\n",
       "      <td>4</td>\n",
       "    </tr>\n",
       "    <tr>\n",
       "      <th>9</th>\n",
       "      <td>0.944860</td>\n",
       "      <td>0.818980</td>\n",
       "      <td>2.0</td>\n",
       "      <td>175.0</td>\n",
       "      <td>0.909205</td>\n",
       "      <td>-0.126706</td>\n",
       "      <td>ok</td>\n",
       "      <td>9</td>\n",
       "    </tr>\n",
       "    <tr>\n",
       "      <th>7</th>\n",
       "      <td>0.923855</td>\n",
       "      <td>0.086539</td>\n",
       "      <td>1.0</td>\n",
       "      <td>150.0</td>\n",
       "      <td>0.996713</td>\n",
       "      <td>-0.109897</td>\n",
       "      <td>ok</td>\n",
       "      <td>7</td>\n",
       "    </tr>\n",
       "    <tr>\n",
       "      <th>3</th>\n",
       "      <td>0.924046</td>\n",
       "      <td>0.088425</td>\n",
       "      <td>1.0</td>\n",
       "      <td>25.0</td>\n",
       "      <td>0.952869</td>\n",
       "      <td>-0.068088</td>\n",
       "      <td>ok</td>\n",
       "      <td>3</td>\n",
       "    </tr>\n",
       "  </tbody>\n",
       "</table>\n",
       "</div>"
      ]
     },
     "metadata": {},
     "execution_count": 23
    }
   ],
   "metadata": {}
  },
  {
   "cell_type": "code",
   "execution_count": 24,
   "source": [
    "import dill\n",
    "model_path = 'models/model_xgb_sfcrime.dill'\n",
    "with open(model_path, 'wb') as file:\n",
    "    dill.dump(model_np, file)"
   ],
   "outputs": [],
   "metadata": {}
  },
  {
   "cell_type": "markdown",
   "source": [
    "### pandas"
   ],
   "metadata": {}
  },
  {
   "cell_type": "code",
   "execution_count": 25,
   "source": [
    "model_pd = copy.copy(model_np)\n",
    "_ = model_pd.fit(X_train_prod_prepro, y_train)"
   ],
   "outputs": [],
   "metadata": {}
  },
  {
   "cell_type": "markdown",
   "source": [
    "### treelite"
   ],
   "metadata": {}
  },
  {
   "cell_type": "code",
   "execution_count": 26,
   "source": [
    "LGBMTreeliteDumper.dump(\n",
    "    model=model_np,\n",
    "    toolchain='gcc',\n",
    "    parallel_comp=6,\n",
    "    model_path='models/',\n",
    "    model_name='treelite_lgbm_sfcrime'\n",
    ")"
   ],
   "outputs": [
    {
     "output_type": "stream",
     "name": "stdout",
     "text": [
      "[11:20:21] ../src/compiler/ast/split.cc:31: Parallel compilation enabled; member trees will be divided into 6 translation units.\n",
      "[11:20:37] ../src/compiler/ast_native.cc:45: Using ASTNativeCompiler\n",
      "[11:20:37] ../src/compiler/ast/split.cc:31: Parallel compilation enabled; member trees will be divided into 6 translation units.\n",
      "[11:20:38] ../src/c_api/c_api.cc:121: Code generation finished. Writing code to files...\n",
      "[11:20:38] ../src/c_api/c_api.cc:126: Writing file recipe.json...\n",
      "[11:20:38] ../src/c_api/c_api.cc:126: Writing file tu4.c...\n",
      "[11:20:38] ../src/c_api/c_api.cc:126: Writing file tu3.c...\n",
      "[11:20:38] ../src/c_api/c_api.cc:126: Writing file tu2.c...\n",
      "[11:20:38] ../src/c_api/c_api.cc:126: Writing file tu1.c...\n",
      "[11:20:38] ../src/c_api/c_api.cc:126: Writing file tu0.c...\n",
      "[11:20:38] ../src/c_api/c_api.cc:126: Writing file tu5.c...\n",
      "[11:20:38] ../src/c_api/c_api.cc:126: Writing file header.h...\n",
      "[11:20:38] ../src/c_api/c_api.cc:126: Writing file main.c...\n"
     ]
    }
   ],
   "metadata": {}
  },
  {
   "cell_type": "code",
   "execution_count": 27,
   "source": [
    "import treelite_runtime\n",
    "model_tl = treelite_runtime.Predictor(\n",
    "    './models/treelite_lgbm_sfcrime.so', verbose=False)"
   ],
   "outputs": [],
   "metadata": {}
  },
  {
   "cell_type": "markdown",
   "source": [
    "#### check the models prediction match"
   ],
   "metadata": {}
  },
  {
   "cell_type": "code",
   "execution_count": 28,
   "source": [
    "X_train_np = X_train.to_numpy()\n",
    "y_pred_pd = model_pd.predict(\n",
    "    prod_pipe.transform(X_train_prod))\n",
    "y_pred_np = model.predict(\n",
    "    prod_pipe.transform_numpy(X_train_prod_np.copy()))\n",
    "y_pred_tl = model_tl.predict(\n",
    "    treelite_runtime.DMatrix(\n",
    "        prod_pipe.transform_numpy(\n",
    "            X_train_prod_np.copy()\n",
    "        )\n",
    "    )\n",
    ")\n",
    "assert np.allclose(y_pred_np, y_pred_pd)\n",
    "assert np.allclose(y_pred_np, np.argmax(y_pred_tl, axis=1))"
   ],
   "outputs": [],
   "metadata": {}
  },
  {
   "cell_type": "markdown",
   "source": [
    "## model evaluation"
   ],
   "metadata": {}
  },
  {
   "cell_type": "code",
   "execution_count": 29,
   "source": [
    "model_np = copy.copy(hyper.model)\n",
    "X_test_prod = X_test[prod_columns]\n",
    "X_test_prod_prepro_np = prod_pipe.transform(X_test_prod).to_numpy()\n",
    "y_test_pred = model_np.predict(X_test_prod_prepro_np)\n",
    "f'accuracy {round(100 * (y_test_pred == y_test).mean(), 2)}%'"
   ],
   "outputs": [
    {
     "output_type": "execute_result",
     "data": {
      "text/plain": [
       "'accuracy 32.53%'"
      ]
     },
     "metadata": {},
     "execution_count": 29
    }
   ],
   "metadata": {}
  },
  {
   "cell_type": "markdown",
   "source": [
    "## per-sample bechmarking"
   ],
   "metadata": {}
  },
  {
   "cell_type": "markdown",
   "source": [
    "### pipeline only"
   ],
   "metadata": {}
  },
  {
   "cell_type": "code",
   "execution_count": 30,
   "source": [
    "x = X_train_prod.iloc[[0]]\n",
    "xnp = x.to_numpy()\n",
    "stats_pd = %timeit -o prod_pipe.transform(x)\n",
    "stats_np = %timeit -o prod_pipe.transform_numpy(xnp.copy())"
   ],
   "outputs": [
    {
     "output_type": "stream",
     "name": "stdout",
     "text": [
      "52.4 ms ± 1.69 ms per loop (mean ± std. dev. of 7 runs, 10 loops each)\n",
      "90.9 µs ± 6.93 µs per loop (mean ± std. dev. of 7 runs, 10000 loops each)\n"
     ]
    }
   ],
   "metadata": {}
  },
  {
   "cell_type": "code",
   "execution_count": 31,
   "source": [
    "speedup = 1e3 * float(str(stats_pd).split(' ')[0]) / float(str(stats_np).split(' ')[0])\n",
    "f'Speed-up Pandas VS Numpy x{round(speedup)}'"
   ],
   "outputs": [
    {
     "output_type": "execute_result",
     "data": {
      "text/plain": [
       "'Speed-up Pandas VS Numpy x576'"
      ]
     },
     "metadata": {},
     "execution_count": 31
    }
   ],
   "metadata": {}
  },
  {
   "cell_type": "markdown",
   "source": [
    "### pipeline & model"
   ],
   "metadata": {}
  },
  {
   "cell_type": "code",
   "execution_count": 32,
   "source": [
    "stats_pd = %timeit -o model_pd.predict(prod_pipe.transform(x))[0]\n",
    "stats_np = %timeit -o model.predict(prod_pipe.transform_numpy(xnp.copy()))[0]\n",
    "stats_tl = %timeit -o model_tl.predict(treelite_runtime.DMatrix(prod_pipe.transform_numpy(xnp.copy())))"
   ],
   "outputs": [
    {
     "output_type": "stream",
     "name": "stdout",
     "text": [
      "66.9 ms ± 2.85 ms per loop (mean ± std. dev. of 7 runs, 10 loops each)\n",
      "722 µs ± 9.48 µs per loop (mean ± std. dev. of 7 runs, 1000 loops each)\n",
      "189 µs ± 9.74 µs per loop (mean ± std. dev. of 7 runs, 1000 loops each)\n"
     ]
    }
   ],
   "metadata": {}
  },
  {
   "cell_type": "code",
   "execution_count": 33,
   "source": [
    "speedup = 1000 * float(str(stats_pd).split(' ')[0]) / float(str(stats_np).split(' ')[0])\n",
    "f'Speed-up Pandas VS Numpy x{round(speedup)}'"
   ],
   "outputs": [
    {
     "output_type": "execute_result",
     "data": {
      "text/plain": [
       "'Speed-up Pandas VS Numpy x93'"
      ]
     },
     "metadata": {},
     "execution_count": 33
    }
   ],
   "metadata": {}
  },
  {
   "cell_type": "code",
   "execution_count": 34,
   "source": [
    "speedup = 1000 * float(str(stats_pd).split(' ')[0]) / float(str(stats_tl).split(' ')[0])\n",
    "f'Speed-up Pandas VS Numpy&Treelite x{round(speedup)}'"
   ],
   "outputs": [
    {
     "output_type": "execute_result",
     "data": {
      "text/plain": [
       "'Speed-up Pandas VS Numpy&Treelite x354'"
      ]
     },
     "metadata": {},
     "execution_count": 34
    }
   ],
   "metadata": {}
  }
 ],
 "metadata": {
  "kernelspec": {
   "display_name": "gators38",
   "language": "python",
   "name": "gators38"
  },
  "language_info": {
   "codemirror_mode": {
    "name": "ipython",
    "version": 3
   },
   "file_extension": ".py",
   "mimetype": "text/x-python",
   "name": "python",
   "nbconvert_exporter": "python",
   "pygments_lexer": "ipython3",
   "version": "3.8.7"
  }
 },
 "nbformat": 4,
 "nbformat_minor": 5
}