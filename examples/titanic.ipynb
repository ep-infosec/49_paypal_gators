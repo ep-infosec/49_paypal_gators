{
 "cells": [
  {
   "cell_type": "markdown",
   "metadata": {},
   "source": [
    "# binary classification example - titanic dataset"
   ]
  },
  {
   "cell_type": "code",
   "execution_count": 1,
   "metadata": {},
   "outputs": [],
   "source": [
    "import warnings\n",
    "warnings.filterwarnings('ignore')"
   ]
  },
  {
   "cell_type": "code",
   "execution_count": 2,
   "metadata": {},
   "outputs": [],
   "source": [
    "%load_ext autoreload\n",
    "%autoreload 2"
   ]
  },
  {
   "cell_type": "code",
   "execution_count": 3,
   "metadata": {},
   "outputs": [
    {
     "name": "stderr",
     "output_type": "stream",
     "text": [
      "WARNING:root:'PYARROW_IGNORE_TIMEZONE' environment variable was not set. It is required to set this environment variable to '1' in both driver and executor sides if you use pyarrow>=2.0.0. Koalas will set it for you but it does not work if there is a Spark context already launched.\n"
     ]
    }
   ],
   "source": [
    "import copy\n",
    "import numpy as np\n",
    "import pandas as pd\n",
    "import databricks.koalas as ks\n",
    "from pandas.testing import assert_frame_equal\n",
    "from pandas.testing import assert_series_equal\n",
    "from xgboost import XGBClassifier\n",
    "import treelite\n",
    "import treelite_runtime\n",
    "import dill\n",
    "from sklearn.metrics import make_scorer\n",
    "from sklearn.model_selection import StratifiedKFold\n",
    "from xgboost import XGBClassifier\n",
    "from hyperopt import hp\n",
    "from hyperopt import tpe"
   ]
  },
  {
   "cell_type": "code",
   "execution_count": 4,
   "metadata": {},
   "outputs": [
    {
     "name": "stderr",
     "output_type": "stream",
     "text": [
      "21/09/30 10:42:14 WARN NativeCodeLoader: Unable to load native-hadoop library for your platform... using builtin-java classes where applicable\n",
      "Using Spark's default log4j profile: org/apache/spark/log4j-defaults.properties\n",
      "Setting default log level to \"WARN\".\n",
      "To adjust logging level use sc.setLogLevel(newLevel). For SparkR, use setLogLevel(newLevel).\n"
     ]
    }
   ],
   "source": [
    "from pyspark import SparkConf, SparkContext\n",
    "conf = SparkConf()\n",
    "conf.set('spark.executor.memory', '2g')\n",
    "SparkContext(conf=conf)\n",
    "ks.set_option('compute.default_index_type', 'distributed-sequence')"
   ]
  },
  {
   "cell_type": "code",
   "execution_count": 5,
   "metadata": {},
   "outputs": [],
   "source": [
    "from gators.util import util\n",
    "# data cleaning\n",
    "from gators.data_cleaning import (\n",
    "    DropHighNaNRatio,\n",
    "    DropLowCardinality,\n",
    "    DropHighCardinality,\n",
    "    DropDatatypeColumns,\n",
    "    DropColumns,\n",
    "    KeepColumns,\n",
    "    Replace,\n",
    ")\n",
    "# imputers\n",
    "from gators.imputers import (\n",
    "    FloatImputer, \n",
    "    IntImputer, \n",
    "    ObjectImputer,\n",
    ")\n",
    "# encoders\n",
    "from gators.encoders import (\n",
    "    OrdinalEncoder, \n",
    "    WOEEncoder,\n",
    "    OneHotEncoder\n",
    ")\n",
    "# binning\n",
    "from gators.binning import BinRareEvents\n",
    "# feature generation\n",
    "from gators.feature_generation import (\n",
    "    ClusterStatistics,\n",
    "    PolynomialFeatures,\n",
    ")\n",
    "from gators.feature_generation_str import (\n",
    "    StringContains,\n",
    "    StringLength,\n",
    "    Extract,\n",
    "    SplitExtract,\n",
    ")\n",
    "# feature selection\n",
    "from gators.feature_selection import (\n",
    "    SelectFromModel,\n",
    "    InformationValue\n",
    ")\n",
    "#frame converter\n",
    "from gators.converter import KoalasToPandas\n",
    "# model building\n",
    "from gators.model_building import (\n",
    "    TrainTestSplit,\n",
    "    HyperOpt,\n",
    "    XGBBoosterBuilder,\n",
    "    XGBTreeliteDumper,\n",
    ")\n",
    "# pipeline\n",
    "from gators.pipeline import Pipeline"
   ]
  },
  {
   "cell_type": "markdown",
   "metadata": {},
   "source": [
    "## offline pipeline - feature selection"
   ]
  },
  {
   "cell_type": "markdown",
   "metadata": {},
   "source": [
    "### with pandas"
   ]
  },
  {
   "cell_type": "code",
   "execution_count": 6,
   "metadata": {},
   "outputs": [],
   "source": [
    "data = pd.read_parquet('data/titanic.parquet')\n",
    "data = data.reset_index(drop=True)\n",
    "y = data['Survived']\n",
    "X = data.drop('Survived', axis=1)\n",
    "train_test_split = TrainTestSplit(test_ratio=0.3, strategy='ordered')\n",
    "X_train, X_test, y_train, y_test = train_test_split.transform(X, y)"
   ]
  },
  {
   "cell_type": "code",
   "execution_count": 7,
   "metadata": {},
   "outputs": [
    {
     "data": {
      "text/html": [
       "<div>\n",
       "<style scoped>\n",
       "    .dataframe tbody tr th:only-of-type {\n",
       "        vertical-align: middle;\n",
       "    }\n",
       "\n",
       "    .dataframe tbody tr th {\n",
       "        vertical-align: top;\n",
       "    }\n",
       "\n",
       "    .dataframe thead th {\n",
       "        text-align: right;\n",
       "    }\n",
       "</style>\n",
       "<table border=\"1\" class=\"dataframe\">\n",
       "  <thead>\n",
       "    <tr style=\"text-align: right;\">\n",
       "      <th></th>\n",
       "      <th>Pclass</th>\n",
       "      <th>Name</th>\n",
       "      <th>Sex</th>\n",
       "      <th>Age</th>\n",
       "      <th>SibSp</th>\n",
       "      <th>Parch</th>\n",
       "      <th>Ticket</th>\n",
       "      <th>Fare</th>\n",
       "      <th>Cabin</th>\n",
       "      <th>Embarked</th>\n",
       "    </tr>\n",
       "  </thead>\n",
       "  <tbody>\n",
       "    <tr>\n",
       "      <th>0</th>\n",
       "      <td>3</td>\n",
       "      <td>Braund, Mr. Owen Harris</td>\n",
       "      <td>male</td>\n",
       "      <td>22.0</td>\n",
       "      <td>1</td>\n",
       "      <td>0</td>\n",
       "      <td>A/5 21171</td>\n",
       "      <td>7.2500</td>\n",
       "      <td>None</td>\n",
       "      <td>S</td>\n",
       "    </tr>\n",
       "    <tr>\n",
       "      <th>1</th>\n",
       "      <td>1</td>\n",
       "      <td>Cumings, Mrs. John Bradley (Florence Briggs Th...</td>\n",
       "      <td>female</td>\n",
       "      <td>38.0</td>\n",
       "      <td>1</td>\n",
       "      <td>0</td>\n",
       "      <td>PC 17599</td>\n",
       "      <td>71.2833</td>\n",
       "      <td>C85</td>\n",
       "      <td>C</td>\n",
       "    </tr>\n",
       "  </tbody>\n",
       "</table>\n",
       "</div>"
      ],
      "text/plain": [
       "   Pclass                                               Name     Sex   Age  \\\n",
       "0       3                            Braund, Mr. Owen Harris    male  22.0   \n",
       "1       1  Cumings, Mrs. John Bradley (Florence Briggs Th...  female  38.0   \n",
       "\n",
       "   SibSp  Parch     Ticket     Fare Cabin Embarked  \n",
       "0      1      0  A/5 21171   7.2500  None        S  \n",
       "1      1      0   PC 17599  71.2833   C85        C  "
      ]
     },
     "execution_count": 7,
     "metadata": {},
     "output_type": "execute_result"
    }
   ],
   "source": [
    "X_train.head(2)"
   ]
  },
  {
   "cell_type": "code",
   "execution_count": 8,
   "metadata": {},
   "outputs": [
    {
     "data": {
      "image/png": "[encoded data removed]",
      "text/plain": [
       "<Figure size 288x216 with 1 Axes>"
      ]
     },
     "metadata": {
      "needs_background": "light"
     },
     "output_type": "display_data"
    }
   ],
   "source": [
    "label_counts = data['Survived'].value_counts(normalize=True).sort_values().iloc[::-1]\n",
    "label_counts.plot(\n",
    "    kind='barh', \n",
    "    figsize=(4, 3), \n",
    "    title='Label Distribution',\n",
    ");"
   ]
  },
  {
   "cell_type": "markdown",
   "metadata": {},
   "source": [
    "### offline pipeline - data preprocessing & feature selection"
   ]
  },
  {
   "cell_type": "code",
   "execution_count": 9,
   "metadata": {},
   "outputs": [],
   "source": [
    "k = 14\n",
    "model = XGBClassifier(\n",
    "    random_state=0, \n",
    "    eval_metric='logloss', \n",
    ")\n",
    "offline_steps = [\n",
    "    StringLength(['Ticket', 'Cabin', 'Name']),\n",
    "    SplitExtract(['Name'], [', '], [1], ['Dummy']),\n",
    "    SplitExtract(['Dummy'], ['.'], [0], ['Title']),\n",
    "    DropColumns(['Ticket', 'Cabin', 'Name', 'Dummy']),\n",
    "    ObjectImputer(strategy='constant', value='MISSING'),\n",
    "    Replace(\n",
    "        to_replace_dict=\n",
    "        {'Title': {'Ms': 'Miss', 'Mme': 'Mrs', 'Mlle': 'Miss'}}\n",
    "    ),\n",
    "    BinRareEvents(min_ratio=0.1),\n",
    "    WOEEncoder(),\n",
    "    FloatImputer(strategy='mean'),\n",
    "    IntImputer(strategy='constant', value=-1),  \n",
    "    ClusterStatistics(\n",
    "        clusters_dict={'FamilyStat': ['SibSp', 'Parch']},\n",
    "        column_names=['FamilySize', 'FamilyStd'],\n",
    "    ),\n",
    "    PolynomialFeatures(\n",
    "        columns=['Pclass', 'FamilySize', 'Fare', 'Age'],\n",
    "        degree=2, interaction_only=True),\n",
    "    DropColumns(columns=['SibSp', 'Parch']),\n",
    "    SelectFromModel(model=model, k=k)\n",
    "]\n",
    "offline_pipe = Pipeline(steps=offline_steps)\n",
    "X_train_prepro = offline_pipe.fit_transform(X_train, y_train)\n",
    "X_train_prepro_np = offline_pipe.transform_numpy(X_train.to_numpy())\n",
    "features = list(X_train_prepro.columns)"
   ]
  },
  {
   "cell_type": "code",
   "execution_count": 10,
   "metadata": {},
   "outputs": [],
   "source": [
    "assert np.allclose(\n",
    "    X_train_prepro.to_numpy(),\n",
    "    X_train_prepro_np\n",
    ")"
   ]
  },
  {
   "cell_type": "code",
   "execution_count": 11,
   "metadata": {},
   "outputs": [
    {
     "data": {
      "image/png": "[encoded data removed]",
      "text/plain": [
       "<Figure size 504x360 with 1 Axes>"
      ]
     },
     "metadata": {
      "needs_background": "light"
     },
     "output_type": "display_data"
    }
   ],
   "source": [
    "offline_pipe.get_feature_importances(k=k)[::-1].plot(\n",
    "    kind='barh', \n",
    "    figsize=(7, 5), \n",
    "    title='Feature Importance',\n",
    ");"
   ]
  },
  {
   "cell_type": "markdown",
   "metadata": {},
   "source": [
    "### koalas"
   ]
  },
  {
   "cell_type": "code",
   "execution_count": 12,
   "metadata": {
    "scrolled": true
   },
   "outputs": [
    {
     "name": "stderr",
     "output_type": "stream",
     "text": [
      "                                                                                \r"
     ]
    }
   ],
   "source": [
    "data_ks = ks.read_parquet('data/titanic.parquet', index_col='PassengerId')\n",
    "y_ks = data_ks['Survived']\n",
    "X_ks = data_ks.drop('Survived', axis=1)\n",
    "\n",
    "train_test_split = TrainTestSplit(test_ratio=0.3, strategy='ordered')\n",
    "X_train_ks, X_test_ks, y_train_ks, y_test_ks = \\\n",
    "    train_test_split.transform(X_ks, y_ks)\n",
    "\n",
    "offline_pipe_ks = Pipeline(steps=offline_steps)\n",
    "X_train_prepro_ks = offline_pipe_ks.fit_transform(\n",
    "    X_train_ks, y_train_ks)\n",
    "X_train_prepro_ks_np = offline_pipe_ks.transform_numpy(\n",
    "    X_train_ks.to_numpy())"
   ]
  },
  {
   "cell_type": "markdown",
   "metadata": {},
   "source": [
    "#### check pandas and koalas results match - offline pipeline"
   ]
  },
  {
   "cell_type": "code",
   "execution_count": 13,
   "metadata": {},
   "outputs": [
    {
     "name": "stderr",
     "output_type": "stream",
     "text": [
      "                                                                                \r"
     ]
    }
   ],
   "source": [
    "assert_frame_equal(\n",
    "    X_train_prepro, \n",
    "    X_train_prepro_ks.to_pandas()\n",
    ")\n",
    "assert np.allclose(\n",
    "    X_train_prepro_np,\n",
    "    X_train_prepro_ks_np\n",
    ")"
   ]
  },
  {
   "cell_type": "markdown",
   "metadata": {},
   "source": [
    "## production pipeline"
   ]
  },
  {
   "cell_type": "code",
   "execution_count": 14,
   "metadata": {},
   "outputs": [],
   "source": [
    "prod_columns = offline_pipe.get_production_columns()"
   ]
  },
  {
   "cell_type": "code",
   "execution_count": 15,
   "metadata": {},
   "outputs": [],
   "source": [
    "prod_steps = [\n",
    "    StringLength(['Ticket', 'Cabin', 'Name']),\n",
    "    SplitExtract(['Name'], [', '], [1], ['Dummy']),\n",
    "    SplitExtract(['Dummy'], ['.'], [0], ['Title']),\n",
    "    DropColumns(['Ticket', 'Cabin', 'Name', 'Dummy']),\n",
    "    ObjectImputer(strategy='constant', value='MISSING'),\n",
    "    Replace(\n",
    "        to_replace_dict=\n",
    "        {'Title': {'Ms': 'Miss', 'Mme': 'Mrs', 'Mlle': 'Miss'}}\n",
    "    ),\n",
    "    BinRareEvents(min_ratio=0.1),\n",
    "    WOEEncoder(),\n",
    "    FloatImputer(strategy='mean'),\n",
    "    IntImputer(strategy='constant', value=-1),  \n",
    "    ClusterStatistics(\n",
    "        clusters_dict={'FamilyStat': ['SibSp', 'Parch']},\n",
    "        column_names=['FamilySize', 'FamilyStd'],\n",
    "    ),\n",
    "    PolynomialFeatures(\n",
    "        columns=['Pclass', 'FamilySize', 'Fare', 'Age'],\n",
    "        degree=2, interaction_only=True),\n",
    "    KeepColumns(columns_to_keep=features),\n",
    "]"
   ]
  },
  {
   "cell_type": "markdown",
   "metadata": {},
   "source": [
    "### pandas"
   ]
  },
  {
   "cell_type": "code",
   "execution_count": 16,
   "metadata": {},
   "outputs": [],
   "source": [
    "X_train_prod = X_train[prod_columns]\n",
    "X_train_prod_np = X_train_prod.to_numpy()\n",
    "\n",
    "prod_pipe = Pipeline(steps=prod_steps)\n",
    "_ = prod_pipe.fit(X_train_prod, y_train)\n",
    "X_train_prod_prepro = prod_pipe.transform(X_train_prod)\n",
    "X_train_prod_prepro_np = prod_pipe.transform_numpy(\n",
    "    X_train_prod.to_numpy())"
   ]
  },
  {
   "cell_type": "markdown",
   "metadata": {},
   "source": [
    "### koalas"
   ]
  },
  {
   "cell_type": "code",
   "execution_count": 17,
   "metadata": {},
   "outputs": [
    {
     "name": "stderr",
     "output_type": "stream",
     "text": [
      "                                                                                \r"
     ]
    }
   ],
   "source": [
    "X_train_prod_ks = X_train_ks[prod_columns]\n",
    "X_train_prod_ks_np = X_train_prod.to_numpy()\n",
    "\n",
    "prod_pipe = Pipeline(steps=prod_steps)\n",
    "_ = prod_pipe.fit(X_train_prod_ks, y_train_ks)\n",
    "X_train_prod_prepro_ks = prod_pipe.transform(X_train_prod_ks)\n",
    "X_train_prod_prepro_ks_np = prod_pipe.transform_numpy(\n",
    "    X_train_prod_ks.to_numpy())"
   ]
  },
  {
   "cell_type": "markdown",
   "metadata": {},
   "source": [
    "#### check offline pipeline and production pipeline match"
   ]
  },
  {
   "cell_type": "code",
   "execution_count": 18,
   "metadata": {},
   "outputs": [],
   "source": [
    "assert_frame_equal(\n",
    "    X_train_prepro, \n",
    "    X_train_prod_prepro\n",
    ")\n",
    "assert np.allclose(\n",
    "    X_train_prod_prepro_np,\n",
    "    X_train_prepro_np)"
   ]
  },
  {
   "cell_type": "markdown",
   "metadata": {},
   "source": [
    "#### check pandas and koalas results match - production pipeline"
   ]
  },
  {
   "cell_type": "code",
   "execution_count": 19,
   "metadata": {},
   "outputs": [
    {
     "name": "stderr",
     "output_type": "stream",
     "text": [
      "                                                                                \r"
     ]
    }
   ],
   "source": [
    "assert np.allclose(\n",
    "    X_train_prod_prepro_np,\n",
    "    X_train_prod_prepro_ks_np)\n",
    "assert_frame_equal(\n",
    "    X_train_prod_prepro, \n",
    "    X_train_prod_prepro_ks.to_pandas()\n",
    ")\n",
    "assert np.allclose(\n",
    "    X_train_prod_prepro_np,\n",
    "    X_train_prod_prepro_ks_np)\n"
   ]
  },
  {
   "cell_type": "markdown",
   "metadata": {},
   "source": [
    "## model building"
   ]
  },
  {
   "cell_type": "markdown",
   "metadata": {},
   "source": [
    "### numpy"
   ]
  },
  {
   "cell_type": "code",
   "execution_count": 20,
   "metadata": {},
   "outputs": [
    {
     "name": "stdout",
     "output_type": "stream",
     "text": [
      "100%|████████| 10/10 [00:06<00:00,  1.50trial/s, best loss: -0.7656580416676784]\n"
     ]
    }
   ],
   "source": [
    "def f1_score(y_true, y_pred):\n",
    "    p = y_true[y_pred == 1].mean()\n",
    "    r = y_pred[y_true == 1].mean()\n",
    "    if (p == 0) | (r == 0):\n",
    "        return 0\n",
    "    return 2 * p * r / (p + r)\n",
    "f1_scoring = make_scorer(f1_score)\n",
    "\n",
    "y_train_np = y_train.to_numpy()\n",
    "n_splits = 10\n",
    "max_evals = 10\n",
    "kfold = StratifiedKFold(n_splits=n_splits)\n",
    "space = {\n",
    "    'n_estimators': hp.quniform('n_estimators', 100, 200, 25),\n",
    "    'max_depth': hp.quniform('max_depth', 2, 3, 1),\n",
    "    'learning_rate': hp.loguniform('learning_rate', -4, -1),\n",
    "    'subsample': hp.uniform('subsample', 0.8, 1),\n",
    "    'colsample_bytree': hp.uniform('colsample_bytree', 0.8, 1),\n",
    " }\n",
    "model = XGBClassifier(\n",
    "    random_state=0, \n",
    "    use_label_encoder=False,\n",
    ")\n",
    "hyper = HyperOpt(\n",
    "    model=model,\n",
    "    algo=tpe.suggest,\n",
    "    scoring=f1_scoring,\n",
    "    space=space,\n",
    "    max_evals=max_evals, \n",
    "    kfold=kfold,\n",
    "    features=features,\n",
    "    )\n",
    "_ = hyper.fit(X_train_prod_prepro_np, y_train.to_numpy())"
   ]
  },
  {
   "cell_type": "code",
   "execution_count": 21,
   "metadata": {},
   "outputs": [
    {
     "data": {
      "image/png": "[encoded data removed]",
      "text/plain": [
       "<Figure size 648x648 with 1 Axes>"
      ]
     },
     "metadata": {
      "needs_background": "light"
     },
     "output_type": "display_data"
    }
   ],
   "source": [
    "hyper.get_feature_importances().iloc[::-1].plot(\n",
    "    kind='barh', \n",
    "    figsize=(9, 9), \n",
    "    title='Most important features',\n",
    ");"
   ]
  },
  {
   "cell_type": "code",
   "execution_count": 22,
   "metadata": {},
   "outputs": [
    {
     "data": {
      "text/html": [
       "<div>\n",
       "<style scoped>\n",
       "    .dataframe tbody tr th:only-of-type {\n",
       "        vertical-align: middle;\n",
       "    }\n",
       "\n",
       "    .dataframe tbody tr th {\n",
       "        vertical-align: top;\n",
       "    }\n",
       "\n",
       "    .dataframe thead th {\n",
       "        text-align: right;\n",
       "    }\n",
       "</style>\n",
       "<table border=\"1\" class=\"dataframe\">\n",
       "  <thead>\n",
       "    <tr style=\"text-align: right;\">\n",
       "      <th></th>\n",
       "      <th>colsample_bytree</th>\n",
       "      <th>learning_rate</th>\n",
       "      <th>max_depth</th>\n",
       "      <th>n_estimators</th>\n",
       "      <th>subsample</th>\n",
       "      <th>loss</th>\n",
       "      <th>status</th>\n",
       "      <th>id</th>\n",
       "    </tr>\n",
       "  </thead>\n",
       "  <tbody>\n",
       "    <tr>\n",
       "      <th>0</th>\n",
       "      <td>0.916682</td>\n",
       "      <td>0.032935</td>\n",
       "      <td>3.0</td>\n",
       "      <td>175.0</td>\n",
       "      <td>0.897209</td>\n",
       "      <td>-0.765658</td>\n",
       "      <td>ok</td>\n",
       "      <td>0</td>\n",
       "    </tr>\n",
       "    <tr>\n",
       "      <th>6</th>\n",
       "      <td>0.866684</td>\n",
       "      <td>0.078750</td>\n",
       "      <td>3.0</td>\n",
       "      <td>200.0</td>\n",
       "      <td>0.967633</td>\n",
       "      <td>-0.765465</td>\n",
       "      <td>ok</td>\n",
       "      <td>6</td>\n",
       "    </tr>\n",
       "    <tr>\n",
       "      <th>4</th>\n",
       "      <td>0.963583</td>\n",
       "      <td>0.071731</td>\n",
       "      <td>2.0</td>\n",
       "      <td>175.0</td>\n",
       "      <td>0.829484</td>\n",
       "      <td>-0.763867</td>\n",
       "      <td>ok</td>\n",
       "      <td>4</td>\n",
       "    </tr>\n",
       "    <tr>\n",
       "      <th>5</th>\n",
       "      <td>0.836219</td>\n",
       "      <td>0.043136</td>\n",
       "      <td>3.0</td>\n",
       "      <td>125.0</td>\n",
       "      <td>0.846503</td>\n",
       "      <td>-0.760991</td>\n",
       "      <td>ok</td>\n",
       "      <td>5</td>\n",
       "    </tr>\n",
       "    <tr>\n",
       "      <th>1</th>\n",
       "      <td>0.971749</td>\n",
       "      <td>0.127459</td>\n",
       "      <td>3.0</td>\n",
       "      <td>175.0</td>\n",
       "      <td>0.906193</td>\n",
       "      <td>-0.759423</td>\n",
       "      <td>ok</td>\n",
       "      <td>1</td>\n",
       "    </tr>\n",
       "    <tr>\n",
       "      <th>3</th>\n",
       "      <td>0.848093</td>\n",
       "      <td>0.032530</td>\n",
       "      <td>2.0</td>\n",
       "      <td>100.0</td>\n",
       "      <td>0.905738</td>\n",
       "      <td>-0.757477</td>\n",
       "      <td>ok</td>\n",
       "      <td>3</td>\n",
       "    </tr>\n",
       "    <tr>\n",
       "      <th>2</th>\n",
       "      <td>0.852505</td>\n",
       "      <td>0.110585</td>\n",
       "      <td>3.0</td>\n",
       "      <td>200.0</td>\n",
       "      <td>0.851674</td>\n",
       "      <td>-0.754226</td>\n",
       "      <td>ok</td>\n",
       "      <td>2</td>\n",
       "    </tr>\n",
       "    <tr>\n",
       "      <th>8</th>\n",
       "      <td>0.810545</td>\n",
       "      <td>0.019879</td>\n",
       "      <td>3.0</td>\n",
       "      <td>150.0</td>\n",
       "      <td>0.902098</td>\n",
       "      <td>-0.753219</td>\n",
       "      <td>ok</td>\n",
       "      <td>8</td>\n",
       "    </tr>\n",
       "    <tr>\n",
       "      <th>7</th>\n",
       "      <td>0.847709</td>\n",
       "      <td>0.031836</td>\n",
       "      <td>2.0</td>\n",
       "      <td>175.0</td>\n",
       "      <td>0.993426</td>\n",
       "      <td>-0.751270</td>\n",
       "      <td>ok</td>\n",
       "      <td>7</td>\n",
       "    </tr>\n",
       "    <tr>\n",
       "      <th>9</th>\n",
       "      <td>0.889720</td>\n",
       "      <td>0.301286</td>\n",
       "      <td>3.0</td>\n",
       "      <td>200.0</td>\n",
       "      <td>0.818411</td>\n",
       "      <td>-0.738556</td>\n",
       "      <td>ok</td>\n",
       "      <td>9</td>\n",
       "    </tr>\n",
       "  </tbody>\n",
       "</table>\n",
       "</div>"
      ],
      "text/plain": [
       "   colsample_bytree  learning_rate  max_depth  n_estimators  subsample  \\\n",
       "0          0.916682       0.032935        3.0         175.0   0.897209   \n",
       "6          0.866684       0.078750        3.0         200.0   0.967633   \n",
       "4          0.963583       0.071731        2.0         175.0   0.829484   \n",
       "5          0.836219       0.043136        3.0         125.0   0.846503   \n",
       "1          0.971749       0.127459        3.0         175.0   0.906193   \n",
       "3          0.848093       0.032530        2.0         100.0   0.905738   \n",
       "2          0.852505       0.110585        3.0         200.0   0.851674   \n",
       "8          0.810545       0.019879        3.0         150.0   0.902098   \n",
       "7          0.847709       0.031836        2.0         175.0   0.993426   \n",
       "9          0.889720       0.301286        3.0         200.0   0.818411   \n",
       "\n",
       "       loss status  id  \n",
       "0 -0.765658     ok   0  \n",
       "6 -0.765465     ok   6  \n",
       "4 -0.763867     ok   4  \n",
       "5 -0.760991     ok   5  \n",
       "1 -0.759423     ok   1  \n",
       "3 -0.757477     ok   3  \n",
       "2 -0.754226     ok   2  \n",
       "8 -0.753219     ok   8  \n",
       "7 -0.751270     ok   7  \n",
       "9 -0.738556     ok   9  "
      ]
     },
     "execution_count": 22,
     "metadata": {},
     "output_type": "execute_result"
    }
   ],
   "source": [
    "hyper.history.sort_values('loss')"
   ]
  },
  {
   "cell_type": "code",
   "execution_count": 23,
   "metadata": {},
   "outputs": [],
   "source": [
    "model_np = copy.copy(hyper.model)\n",
    "model_path = 'models/model_titanic.dill'\n",
    "with open(model_path, 'wb') as file:\n",
    "    dill.dump(model_np, file)"
   ]
  },
  {
   "cell_type": "markdown",
   "metadata": {},
   "source": [
    "### pandas"
   ]
  },
  {
   "cell_type": "code",
   "execution_count": 24,
   "metadata": {},
   "outputs": [],
   "source": [
    "model_pd = copy.copy(model_np)\n",
    "_ = model_pd.fit(X_train_prod_prepro, y_train)"
   ]
  },
  {
   "cell_type": "markdown",
   "metadata": {},
   "source": [
    "### treelite"
   ]
  },
  {
   "cell_type": "code",
   "execution_count": 25,
   "metadata": {},
   "outputs": [
    {
     "name": "stdout",
     "output_type": "stream",
     "text": [
      "[10:43:47] ../src/compiler/ast_native.cc:45: Using ASTNativeCompiler\n",
      "[10:43:47] ../src/compiler/ast/split.cc:31: Parallel compilation enabled; member trees will be divided into 4 translation units.\n",
      "[10:43:47] ../src/c_api/c_api.cc:121: Code generation finished. Writing code to files...\n",
      "[10:43:47] ../src/c_api/c_api.cc:126: Writing file recipe.json...\n",
      "[10:43:47] ../src/c_api/c_api.cc:126: Writing file tu3.c...\n",
      "[10:43:47] ../src/c_api/c_api.cc:126: Writing file tu2.c...\n",
      "[10:43:47] ../src/c_api/c_api.cc:126: Writing file tu1.c...\n",
      "[10:43:47] ../src/c_api/c_api.cc:126: Writing file tu0.c...\n",
      "[10:43:47] ../src/c_api/c_api.cc:126: Writing file header.h...\n",
      "[10:43:47] ../src/c_api/c_api.cc:126: Writing file main.c...\n",
      "[10:43:47] /Users/cpoli/gators38/lib/python3.8/site-packages/treelite/contrib/util.py:105: Compiling sources files in directory ./models/tmpeq1fdkam into object files (*.o)...\n",
      "[10:43:47] /Users/cpoli/gators38/lib/python3.8/site-packages/treelite/contrib/util.py:134: Generating dynamic shared library ./models/tmpeq1fdkam/predictor.dylib...\n",
      "[10:43:48] /Users/cpoli/gators38/lib/python3.8/site-packages/treelite/contrib/__init__.py:278: Generated shared library in 0.99 seconds\n"
     ]
    }
   ],
   "source": [
    "xgb_booster = XGBBoosterBuilder.train(\n",
    "    model=hyper.model, \n",
    "    X_train=X_train_prod_prepro_np, \n",
    "    y_train=y_train_np,\n",
    ")\n",
    "\n",
    "treelite_model = treelite.Model.from_xgboost(xgb_booster)\n",
    "treelite_model.export_lib(\n",
    "    toolchain='gcc', \n",
    "    libpath='./models/treelite_xgb_titanic.so', \n",
    "    params={'parallel_comp': 4},\n",
    "    verbose=True\n",
    ")\n",
    "model_tl = treelite_runtime.Predictor(\n",
    "    './models/treelite_xgb_titanic.so', verbose=False)"
   ]
  },
  {
   "cell_type": "markdown",
   "metadata": {},
   "source": [
    "#### check the models prediction match"
   ]
  },
  {
   "cell_type": "code",
   "execution_count": 26,
   "metadata": {},
   "outputs": [],
   "source": [
    "X_test_prod = X_test[prod_columns]\n",
    "X_test_prod_np = X_test_prod.to_numpy()\n",
    "y_pred_pd = model_pd.predict_proba(\n",
    "    prod_pipe.transform(X_test_prod))[:, 1]\n",
    "y_pred_np = model.predict_proba(\n",
    "    prod_pipe.transform_numpy(X_test_prod_np.copy()))[:, 1]\n",
    "y_pred_tl = model_tl.predict(\n",
    "    treelite_runtime.DMatrix(\n",
    "        prod_pipe.transform_numpy(\n",
    "            X_test_prod_np.copy()\n",
    "        )\n",
    "    )\n",
    ")\n",
    "assert np.allclose(y_pred_np, y_pred_pd)\n",
    "assert np.allclose(y_pred_np, y_pred_tl)"
   ]
  },
  {
   "cell_type": "markdown",
   "metadata": {},
   "source": [
    "## model evaluation"
   ]
  },
  {
   "cell_type": "code",
   "execution_count": 27,
   "metadata": {},
   "outputs": [
    {
     "data": {
      "text/plain": [
       "'f1 score: 0.76'"
      ]
     },
     "execution_count": 27,
     "metadata": {},
     "output_type": "execute_result"
    }
   ],
   "source": [
    "model_np = copy.copy(hyper.model)\n",
    "X_test_prod = X_test[prod_columns]\n",
    "X_test_prod_np = X_test_prod.to_numpy()\n",
    "X_test_prod_prepro_np = prod_pipe.transform(X_test_prod).to_numpy()\n",
    "y_test_pred = model_np.predict(X_test_prod_prepro_np)\n",
    "f'f1 score: {f1_score(y_test, y_test_pred):.2f}'"
   ]
  },
  {
   "cell_type": "markdown",
   "metadata": {},
   "source": [
    "## per-sample bechmarking"
   ]
  },
  {
   "cell_type": "markdown",
   "metadata": {},
   "source": [
    "### pipeline only"
   ]
  },
  {
   "cell_type": "code",
   "execution_count": 28,
   "metadata": {},
   "outputs": [
    {
     "name": "stdout",
     "output_type": "stream",
     "text": [
      "37 ms ± 3.28 ms per loop (mean ± std. dev. of 7 runs, 10 loops each)\n",
      "132 µs ± 5.52 µs per loop (mean ± std. dev. of 7 runs, 10000 loops each)\n"
     ]
    }
   ],
   "source": [
    "x = X_test_prod.iloc[[0]]\n",
    "x_np = x.to_numpy()\n",
    "stats_pd = %timeit -o prod_pipe.transform(x)\n",
    "stats_np = %timeit -o prod_pipe.transform_numpy(x_np.copy())"
   ]
  },
  {
   "cell_type": "code",
   "execution_count": 29,
   "metadata": {},
   "outputs": [
    {
     "data": {
      "text/plain": [
       "'Speed-up Pandas VS Numpy x280'"
      ]
     },
     "execution_count": 29,
     "metadata": {},
     "output_type": "execute_result"
    }
   ],
   "source": [
    "speedup = 1e3 * float(str(stats_pd).split(' ')[0]) / float(str(stats_np).split(' ')[0])\n",
    "f'Speed-up Pandas VS Numpy x{round(speedup)}'"
   ]
  },
  {
   "cell_type": "markdown",
   "metadata": {},
   "source": [
    "### pipeline & model"
   ]
  },
  {
   "cell_type": "code",
   "execution_count": 30,
   "metadata": {},
   "outputs": [
    {
     "name": "stdout",
     "output_type": "stream",
     "text": [
      "36.1 ms ± 5.02 ms per loop (mean ± std. dev. of 7 runs, 10 loops each)\n",
      "322 µs ± 24.2 µs per loop (mean ± std. dev. of 7 runs, 1000 loops each)\n",
      "203 µs ± 10.8 µs per loop (mean ± std. dev. of 7 runs, 10000 loops each)\n"
     ]
    }
   ],
   "source": [
    "stats_pd = %timeit -o model_pd.predict(prod_pipe.transform(x))[0]\n",
    "stats_np = %timeit -o model.predict(prod_pipe.transform_numpy(x_np.copy()))[0]\n",
    "stats_tl = %timeit -o  model_tl.predict(treelite_runtime.DMatrix(prod_pipe.transform_numpy(x_np.copy())))"
   ]
  },
  {
   "cell_type": "code",
   "execution_count": 31,
   "metadata": {},
   "outputs": [
    {
     "data": {
      "text/plain": [
       "'Speed-up Pandas VS Numpy x112'"
      ]
     },
     "execution_count": 31,
     "metadata": {},
     "output_type": "execute_result"
    }
   ],
   "source": [
    "speedup = 1e3 * float(str(stats_pd).split(' ')[0]) / float(str(stats_np).split(' ')[0])\n",
    "f'Speed-up Pandas VS Numpy x{round(speedup)}'"
   ]
  },
  {
   "cell_type": "code",
   "execution_count": 32,
   "metadata": {},
   "outputs": [
    {
     "data": {
      "text/plain": [
       "'Speed-up Pandas VS Numpy&Treelite x178'"
      ]
     },
     "execution_count": 32,
     "metadata": {},
     "output_type": "execute_result"
    }
   ],
   "source": [
    "speedup = 1e3 * float(str(stats_pd).split(' ')[0]) / float(str(stats_tl).split(' ')[0])\n",
    "f'Speed-up Pandas VS Numpy&Treelite x{round(speedup)}'"
   ]
  }
 ],
 "metadata": {
  "kernelspec": {
   "display_name": "gators38",
   "language": "python",
   "name": "gators38"
  },
  "language_info": {
   "codemirror_mode": {
    "name": "ipython",
    "version": 3
   },
   "file_extension": ".py",
   "mimetype": "text/x-python",
   "name": "python",
   "nbconvert_exporter": "python",
   "pygments_lexer": "ipython3",
   "version": "3.8.7"
  }
 },
 "nbformat": 4,
 "nbformat_minor": 2
}
